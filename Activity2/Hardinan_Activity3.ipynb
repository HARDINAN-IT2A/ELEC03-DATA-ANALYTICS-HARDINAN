{
 "cells": [
  {
   "cell_type": "code",
   "execution_count": 1,
   "id": "66ae978e-dd76-4f3a-b090-1c6ac05e4c8f",
   "metadata": {},
   "outputs": [],
   "source": [
    "import numpy as np\n",
    "import pandas as pd\n",
    "import seaborn as sns\n",
    "import matplotlib.pyplot as plt\n",
    "import warnings\n",
    "warnings.filterwarnings('ignore')\n"
   ]
  },
  {
   "cell_type": "markdown",
   "id": "d4a7cd53-8462-4c4f-a37c-d61dc7e52fa5",
   "metadata": {},
   "source": [
    "# **DATASET INTO DATAFRAME**"
   ]
  },
  {
   "cell_type": "code",
   "execution_count": 2,
   "id": "defe22f0-bf3c-48cd-b4fb-d45a05302c8e",
   "metadata": {},
   "outputs": [],
   "source": [
    "UK = pd.read_csv('Data-set(UK)\\\\uk_road_accident.csv')"
   ]
  },
  {
   "cell_type": "code",
   "execution_count": 3,
   "id": "4e87d2f6-a03f-4d21-996b-3c9f2369c064",
   "metadata": {},
   "outputs": [
    {
     "data": {
      "text/html": [
       "<div>\n",
       "<style scoped>\n",
       "    .dataframe tbody tr th:only-of-type {\n",
       "        vertical-align: middle;\n",
       "    }\n",
       "\n",
       "    .dataframe tbody tr th {\n",
       "        vertical-align: top;\n",
       "    }\n",
       "\n",
       "    .dataframe thead th {\n",
       "        text-align: right;\n",
       "    }\n",
       "</style>\n",
       "<table border=\"1\" class=\"dataframe\">\n",
       "  <thead>\n",
       "    <tr style=\"text-align: right;\">\n",
       "      <th></th>\n",
       "      <th>Index</th>\n",
       "      <th>Accident_Severity</th>\n",
       "      <th>Accident Date</th>\n",
       "      <th>Latitude</th>\n",
       "      <th>Light_Conditions</th>\n",
       "      <th>District Area</th>\n",
       "      <th>Longitude</th>\n",
       "      <th>Number_of_Casualties</th>\n",
       "      <th>Number_of_Vehicles</th>\n",
       "      <th>Road_Surface_Conditions</th>\n",
       "      <th>Road_Type</th>\n",
       "      <th>Urban_or_Rural_Area</th>\n",
       "      <th>Weather_Conditions</th>\n",
       "      <th>Vehicle_Type</th>\n",
       "    </tr>\n",
       "  </thead>\n",
       "  <tbody>\n",
       "    <tr>\n",
       "      <th>0</th>\n",
       "      <td>200701BS64157</td>\n",
       "      <td>Serious</td>\n",
       "      <td>5/6/2019</td>\n",
       "      <td>51.506187</td>\n",
       "      <td>Darkness - lights lit</td>\n",
       "      <td>Kensington and Chelsea</td>\n",
       "      <td>-0.209082</td>\n",
       "      <td>1</td>\n",
       "      <td>2</td>\n",
       "      <td>Dry</td>\n",
       "      <td>Single carriageway</td>\n",
       "      <td>Urban</td>\n",
       "      <td>Fine no high winds</td>\n",
       "      <td>Car</td>\n",
       "    </tr>\n",
       "    <tr>\n",
       "      <th>1</th>\n",
       "      <td>200701BS65737</td>\n",
       "      <td>Serious</td>\n",
       "      <td>2/7/2019</td>\n",
       "      <td>51.495029</td>\n",
       "      <td>Daylight</td>\n",
       "      <td>Kensington and Chelsea</td>\n",
       "      <td>-0.173647</td>\n",
       "      <td>1</td>\n",
       "      <td>2</td>\n",
       "      <td>Wet or damp</td>\n",
       "      <td>Single carriageway</td>\n",
       "      <td>Urban</td>\n",
       "      <td>Raining no high winds</td>\n",
       "      <td>Car</td>\n",
       "    </tr>\n",
       "    <tr>\n",
       "      <th>2</th>\n",
       "      <td>200701BS66127</td>\n",
       "      <td>Serious</td>\n",
       "      <td>26-08-2019</td>\n",
       "      <td>51.517715</td>\n",
       "      <td>Darkness - lighting unknown</td>\n",
       "      <td>Kensington and Chelsea</td>\n",
       "      <td>-0.210215</td>\n",
       "      <td>1</td>\n",
       "      <td>3</td>\n",
       "      <td>Dry</td>\n",
       "      <td>NaN</td>\n",
       "      <td>Urban</td>\n",
       "      <td>NaN</td>\n",
       "      <td>Taxi/Private hire car</td>\n",
       "    </tr>\n",
       "    <tr>\n",
       "      <th>3</th>\n",
       "      <td>200701BS66128</td>\n",
       "      <td>Serious</td>\n",
       "      <td>16-08-2019</td>\n",
       "      <td>51.495478</td>\n",
       "      <td>Daylight</td>\n",
       "      <td>Kensington and Chelsea</td>\n",
       "      <td>-0.202731</td>\n",
       "      <td>1</td>\n",
       "      <td>4</td>\n",
       "      <td>Dry</td>\n",
       "      <td>Single carriageway</td>\n",
       "      <td>Urban</td>\n",
       "      <td>Fine no high winds</td>\n",
       "      <td>Bus or coach (17 or more pass seats)</td>\n",
       "    </tr>\n",
       "    <tr>\n",
       "      <th>4</th>\n",
       "      <td>200701BS66837</td>\n",
       "      <td>Slight</td>\n",
       "      <td>3/9/2019</td>\n",
       "      <td>51.488576</td>\n",
       "      <td>Darkness - lights lit</td>\n",
       "      <td>Kensington and Chelsea</td>\n",
       "      <td>-0.192487</td>\n",
       "      <td>1</td>\n",
       "      <td>2</td>\n",
       "      <td>Dry</td>\n",
       "      <td>NaN</td>\n",
       "      <td>Urban</td>\n",
       "      <td>NaN</td>\n",
       "      <td>Other vehicle</td>\n",
       "    </tr>\n",
       "    <tr>\n",
       "      <th>...</th>\n",
       "      <td>...</td>\n",
       "      <td>...</td>\n",
       "      <td>...</td>\n",
       "      <td>...</td>\n",
       "      <td>...</td>\n",
       "      <td>...</td>\n",
       "      <td>...</td>\n",
       "      <td>...</td>\n",
       "      <td>...</td>\n",
       "      <td>...</td>\n",
       "      <td>...</td>\n",
       "      <td>...</td>\n",
       "      <td>...</td>\n",
       "      <td>...</td>\n",
       "    </tr>\n",
       "    <tr>\n",
       "      <th>660674</th>\n",
       "      <td>201091NM01760</td>\n",
       "      <td>Slight</td>\n",
       "      <td>18-02-2022</td>\n",
       "      <td>57.374005</td>\n",
       "      <td>Daylight</td>\n",
       "      <td>Highland</td>\n",
       "      <td>-3.467828</td>\n",
       "      <td>2</td>\n",
       "      <td>1</td>\n",
       "      <td>Dry</td>\n",
       "      <td>Single carriageway</td>\n",
       "      <td>Rural</td>\n",
       "      <td>Fine no high winds</td>\n",
       "      <td>Car</td>\n",
       "    </tr>\n",
       "    <tr>\n",
       "      <th>660675</th>\n",
       "      <td>201091NM01881</td>\n",
       "      <td>Slight</td>\n",
       "      <td>21-02-2022</td>\n",
       "      <td>57.232273</td>\n",
       "      <td>Darkness - no lighting</td>\n",
       "      <td>Highland</td>\n",
       "      <td>-3.809281</td>\n",
       "      <td>1</td>\n",
       "      <td>1</td>\n",
       "      <td>Frost or ice</td>\n",
       "      <td>Single carriageway</td>\n",
       "      <td>Rural</td>\n",
       "      <td>Fine no high winds</td>\n",
       "      <td>Car</td>\n",
       "    </tr>\n",
       "    <tr>\n",
       "      <th>660676</th>\n",
       "      <td>201091NM01935</td>\n",
       "      <td>Slight</td>\n",
       "      <td>23-02-2022</td>\n",
       "      <td>57.585044</td>\n",
       "      <td>Daylight</td>\n",
       "      <td>Highland</td>\n",
       "      <td>-3.862727</td>\n",
       "      <td>1</td>\n",
       "      <td>3</td>\n",
       "      <td>Frost or ice</td>\n",
       "      <td>Single carriageway</td>\n",
       "      <td>Rural</td>\n",
       "      <td>Fine no high winds</td>\n",
       "      <td>Car</td>\n",
       "    </tr>\n",
       "    <tr>\n",
       "      <th>660677</th>\n",
       "      <td>201091NM01964</td>\n",
       "      <td>Serious</td>\n",
       "      <td>23-02-2022</td>\n",
       "      <td>57.214898</td>\n",
       "      <td>Darkness - no lighting</td>\n",
       "      <td>Highland</td>\n",
       "      <td>-3.823997</td>\n",
       "      <td>1</td>\n",
       "      <td>2</td>\n",
       "      <td>Wet or damp</td>\n",
       "      <td>Single carriageway</td>\n",
       "      <td>Rural</td>\n",
       "      <td>Fine no high winds</td>\n",
       "      <td>Motorcycle over 500cc</td>\n",
       "    </tr>\n",
       "    <tr>\n",
       "      <th>660678</th>\n",
       "      <td>201091NM02142</td>\n",
       "      <td>Serious</td>\n",
       "      <td>28-02-2022</td>\n",
       "      <td>57.575210</td>\n",
       "      <td>Daylight</td>\n",
       "      <td>Highland</td>\n",
       "      <td>-3.895673</td>\n",
       "      <td>1</td>\n",
       "      <td>1</td>\n",
       "      <td>Wet or damp</td>\n",
       "      <td>Dual carriageway</td>\n",
       "      <td>Rural</td>\n",
       "      <td>Snowing no high winds</td>\n",
       "      <td>Car</td>\n",
       "    </tr>\n",
       "  </tbody>\n",
       "</table>\n",
       "<p>660679 rows × 14 columns</p>\n",
       "</div>"
      ],
      "text/plain": [
       "                Index Accident_Severity Accident Date   Latitude  \\\n",
       "0       200701BS64157           Serious      5/6/2019  51.506187   \n",
       "1       200701BS65737           Serious      2/7/2019  51.495029   \n",
       "2       200701BS66127           Serious    26-08-2019  51.517715   \n",
       "3       200701BS66128           Serious    16-08-2019  51.495478   \n",
       "4       200701BS66837            Slight      3/9/2019  51.488576   \n",
       "...               ...               ...           ...        ...   \n",
       "660674  201091NM01760            Slight    18-02-2022  57.374005   \n",
       "660675  201091NM01881            Slight    21-02-2022  57.232273   \n",
       "660676  201091NM01935            Slight    23-02-2022  57.585044   \n",
       "660677  201091NM01964           Serious    23-02-2022  57.214898   \n",
       "660678  201091NM02142           Serious    28-02-2022  57.575210   \n",
       "\n",
       "                   Light_Conditions           District Area  Longitude  \\\n",
       "0             Darkness - lights lit  Kensington and Chelsea  -0.209082   \n",
       "1                          Daylight  Kensington and Chelsea  -0.173647   \n",
       "2       Darkness - lighting unknown  Kensington and Chelsea  -0.210215   \n",
       "3                          Daylight  Kensington and Chelsea  -0.202731   \n",
       "4             Darkness - lights lit  Kensington and Chelsea  -0.192487   \n",
       "...                             ...                     ...        ...   \n",
       "660674                     Daylight                Highland  -3.467828   \n",
       "660675       Darkness - no lighting                Highland  -3.809281   \n",
       "660676                     Daylight                Highland  -3.862727   \n",
       "660677       Darkness - no lighting                Highland  -3.823997   \n",
       "660678                     Daylight                Highland  -3.895673   \n",
       "\n",
       "        Number_of_Casualties  Number_of_Vehicles Road_Surface_Conditions  \\\n",
       "0                          1                   2                     Dry   \n",
       "1                          1                   2             Wet or damp   \n",
       "2                          1                   3                     Dry   \n",
       "3                          1                   4                     Dry   \n",
       "4                          1                   2                     Dry   \n",
       "...                      ...                 ...                     ...   \n",
       "660674                     2                   1                     Dry   \n",
       "660675                     1                   1            Frost or ice   \n",
       "660676                     1                   3            Frost or ice   \n",
       "660677                     1                   2             Wet or damp   \n",
       "660678                     1                   1             Wet or damp   \n",
       "\n",
       "                 Road_Type Urban_or_Rural_Area     Weather_Conditions  \\\n",
       "0       Single carriageway               Urban     Fine no high winds   \n",
       "1       Single carriageway               Urban  Raining no high winds   \n",
       "2                      NaN               Urban                    NaN   \n",
       "3       Single carriageway               Urban     Fine no high winds   \n",
       "4                      NaN               Urban                    NaN   \n",
       "...                    ...                 ...                    ...   \n",
       "660674  Single carriageway               Rural     Fine no high winds   \n",
       "660675  Single carriageway               Rural     Fine no high winds   \n",
       "660676  Single carriageway               Rural     Fine no high winds   \n",
       "660677  Single carriageway               Rural     Fine no high winds   \n",
       "660678    Dual carriageway               Rural  Snowing no high winds   \n",
       "\n",
       "                                Vehicle_Type  \n",
       "0                                        Car  \n",
       "1                                        Car  \n",
       "2                      Taxi/Private hire car  \n",
       "3       Bus or coach (17 or more pass seats)  \n",
       "4                              Other vehicle  \n",
       "...                                      ...  \n",
       "660674                                   Car  \n",
       "660675                                   Car  \n",
       "660676                                   Car  \n",
       "660677                 Motorcycle over 500cc  \n",
       "660678                                   Car  \n",
       "\n",
       "[660679 rows x 14 columns]"
      ]
     },
     "execution_count": 3,
     "metadata": {},
     "output_type": "execute_result"
    }
   ],
   "source": [
    "UK"
   ]
  },
  {
   "cell_type": "markdown",
   "id": "773b9df7-16a4-4f13-b0c0-f4ea2d863564",
   "metadata": {},
   "source": [
    "# Descrivtive Analysis"
   ]
  },
  {
   "cell_type": "code",
   "execution_count": 4,
   "id": "dcd14127-0587-4c27-95ec-ec5bcf8f28d8",
   "metadata": {},
   "outputs": [
    {
     "data": {
      "text/html": [
       "<div>\n",
       "<style scoped>\n",
       "    .dataframe tbody tr th:only-of-type {\n",
       "        vertical-align: middle;\n",
       "    }\n",
       "\n",
       "    .dataframe tbody tr th {\n",
       "        vertical-align: top;\n",
       "    }\n",
       "\n",
       "    .dataframe thead th {\n",
       "        text-align: right;\n",
       "    }\n",
       "</style>\n",
       "<table border=\"1\" class=\"dataframe\">\n",
       "  <thead>\n",
       "    <tr style=\"text-align: right;\">\n",
       "      <th></th>\n",
       "      <th>Latitude</th>\n",
       "      <th>Longitude</th>\n",
       "      <th>Number_of_Casualties</th>\n",
       "      <th>Number_of_Vehicles</th>\n",
       "    </tr>\n",
       "  </thead>\n",
       "  <tbody>\n",
       "    <tr>\n",
       "      <th>count</th>\n",
       "      <td>660654.000000</td>\n",
       "      <td>660653.000000</td>\n",
       "      <td>660679.000000</td>\n",
       "      <td>660679.000000</td>\n",
       "    </tr>\n",
       "    <tr>\n",
       "      <th>mean</th>\n",
       "      <td>52.553866</td>\n",
       "      <td>-1.431210</td>\n",
       "      <td>1.357040</td>\n",
       "      <td>1.831255</td>\n",
       "    </tr>\n",
       "    <tr>\n",
       "      <th>std</th>\n",
       "      <td>1.406922</td>\n",
       "      <td>1.383330</td>\n",
       "      <td>0.824847</td>\n",
       "      <td>0.715269</td>\n",
       "    </tr>\n",
       "    <tr>\n",
       "      <th>min</th>\n",
       "      <td>49.914430</td>\n",
       "      <td>-7.516225</td>\n",
       "      <td>1.000000</td>\n",
       "      <td>1.000000</td>\n",
       "    </tr>\n",
       "    <tr>\n",
       "      <th>25%</th>\n",
       "      <td>51.490690</td>\n",
       "      <td>-2.332291</td>\n",
       "      <td>1.000000</td>\n",
       "      <td>1.000000</td>\n",
       "    </tr>\n",
       "    <tr>\n",
       "      <th>50%</th>\n",
       "      <td>52.315641</td>\n",
       "      <td>-1.411667</td>\n",
       "      <td>1.000000</td>\n",
       "      <td>2.000000</td>\n",
       "    </tr>\n",
       "    <tr>\n",
       "      <th>75%</th>\n",
       "      <td>53.453452</td>\n",
       "      <td>-0.232869</td>\n",
       "      <td>1.000000</td>\n",
       "      <td>2.000000</td>\n",
       "    </tr>\n",
       "    <tr>\n",
       "      <th>max</th>\n",
       "      <td>60.757544</td>\n",
       "      <td>1.762010</td>\n",
       "      <td>68.000000</td>\n",
       "      <td>32.000000</td>\n",
       "    </tr>\n",
       "  </tbody>\n",
       "</table>\n",
       "</div>"
      ],
      "text/plain": [
       "            Latitude      Longitude  Number_of_Casualties  Number_of_Vehicles\n",
       "count  660654.000000  660653.000000         660679.000000       660679.000000\n",
       "mean       52.553866      -1.431210              1.357040            1.831255\n",
       "std         1.406922       1.383330              0.824847            0.715269\n",
       "min        49.914430      -7.516225              1.000000            1.000000\n",
       "25%        51.490690      -2.332291              1.000000            1.000000\n",
       "50%        52.315641      -1.411667              1.000000            2.000000\n",
       "75%        53.453452      -0.232869              1.000000            2.000000\n",
       "max        60.757544       1.762010             68.000000           32.000000"
      ]
     },
     "execution_count": 4,
     "metadata": {},
     "output_type": "execute_result"
    }
   ],
   "source": [
    "UK.describe()"
   ]
  },
  {
   "cell_type": "code",
   "execution_count": 5,
   "id": "ac66f775-ad2d-4e8a-bd77-47d9ba9c5848",
   "metadata": {},
   "outputs": [
    {
     "data": {
      "text/html": [
       "<div>\n",
       "<style scoped>\n",
       "    .dataframe tbody tr th:only-of-type {\n",
       "        vertical-align: middle;\n",
       "    }\n",
       "\n",
       "    .dataframe tbody tr th {\n",
       "        vertical-align: top;\n",
       "    }\n",
       "\n",
       "    .dataframe thead th {\n",
       "        text-align: right;\n",
       "    }\n",
       "</style>\n",
       "<table border=\"1\" class=\"dataframe\">\n",
       "  <thead>\n",
       "    <tr style=\"text-align: right;\">\n",
       "      <th></th>\n",
       "      <th>count</th>\n",
       "      <th>mean</th>\n",
       "      <th>std</th>\n",
       "      <th>min</th>\n",
       "      <th>25%</th>\n",
       "      <th>50%</th>\n",
       "      <th>75%</th>\n",
       "      <th>max</th>\n",
       "    </tr>\n",
       "  </thead>\n",
       "  <tbody>\n",
       "    <tr>\n",
       "      <th>Latitude</th>\n",
       "      <td>660654.0</td>\n",
       "      <td>52.553866</td>\n",
       "      <td>1.406922</td>\n",
       "      <td>49.914430</td>\n",
       "      <td>51.490690</td>\n",
       "      <td>52.315641</td>\n",
       "      <td>53.453452</td>\n",
       "      <td>60.757544</td>\n",
       "    </tr>\n",
       "    <tr>\n",
       "      <th>Longitude</th>\n",
       "      <td>660653.0</td>\n",
       "      <td>-1.431210</td>\n",
       "      <td>1.383330</td>\n",
       "      <td>-7.516225</td>\n",
       "      <td>-2.332291</td>\n",
       "      <td>-1.411667</td>\n",
       "      <td>-0.232869</td>\n",
       "      <td>1.762010</td>\n",
       "    </tr>\n",
       "    <tr>\n",
       "      <th>Number_of_Casualties</th>\n",
       "      <td>660679.0</td>\n",
       "      <td>1.357040</td>\n",
       "      <td>0.824847</td>\n",
       "      <td>1.000000</td>\n",
       "      <td>1.000000</td>\n",
       "      <td>1.000000</td>\n",
       "      <td>1.000000</td>\n",
       "      <td>68.000000</td>\n",
       "    </tr>\n",
       "    <tr>\n",
       "      <th>Number_of_Vehicles</th>\n",
       "      <td>660679.0</td>\n",
       "      <td>1.831255</td>\n",
       "      <td>0.715269</td>\n",
       "      <td>1.000000</td>\n",
       "      <td>1.000000</td>\n",
       "      <td>2.000000</td>\n",
       "      <td>2.000000</td>\n",
       "      <td>32.000000</td>\n",
       "    </tr>\n",
       "  </tbody>\n",
       "</table>\n",
       "</div>"
      ],
      "text/plain": [
       "                         count       mean       std        min        25%  \\\n",
       "Latitude              660654.0  52.553866  1.406922  49.914430  51.490690   \n",
       "Longitude             660653.0  -1.431210  1.383330  -7.516225  -2.332291   \n",
       "Number_of_Casualties  660679.0   1.357040  0.824847   1.000000   1.000000   \n",
       "Number_of_Vehicles    660679.0   1.831255  0.715269   1.000000   1.000000   \n",
       "\n",
       "                            50%        75%        max  \n",
       "Latitude              52.315641  53.453452  60.757544  \n",
       "Longitude             -1.411667  -0.232869   1.762010  \n",
       "Number_of_Casualties   1.000000   1.000000  68.000000  \n",
       "Number_of_Vehicles     2.000000   2.000000  32.000000  "
      ]
     },
     "execution_count": 5,
     "metadata": {},
     "output_type": "execute_result"
    }
   ],
   "source": [
    "UK.describe().T"
   ]
  },
  {
   "cell_type": "markdown",
   "id": "d384cc91-0f03-48f4-9885-615e2bae6cf4",
   "metadata": {},
   "source": [
    "# NULL"
   ]
  },
  {
   "cell_type": "code",
   "execution_count": 6,
   "id": "0854fb98-a02f-4762-a4d9-7e4e77a28c3b",
   "metadata": {},
   "outputs": [
    {
     "data": {
      "text/html": [
       "<div>\n",
       "<style scoped>\n",
       "    .dataframe tbody tr th:only-of-type {\n",
       "        vertical-align: middle;\n",
       "    }\n",
       "\n",
       "    .dataframe tbody tr th {\n",
       "        vertical-align: top;\n",
       "    }\n",
       "\n",
       "    .dataframe thead th {\n",
       "        text-align: right;\n",
       "    }\n",
       "</style>\n",
       "<table border=\"1\" class=\"dataframe\">\n",
       "  <thead>\n",
       "    <tr style=\"text-align: right;\">\n",
       "      <th></th>\n",
       "      <th>Index</th>\n",
       "      <th>Accident_Severity</th>\n",
       "      <th>Accident Date</th>\n",
       "      <th>Latitude</th>\n",
       "      <th>Light_Conditions</th>\n",
       "      <th>District Area</th>\n",
       "      <th>Longitude</th>\n",
       "      <th>Number_of_Casualties</th>\n",
       "      <th>Number_of_Vehicles</th>\n",
       "      <th>Road_Surface_Conditions</th>\n",
       "      <th>Road_Type</th>\n",
       "      <th>Urban_or_Rural_Area</th>\n",
       "      <th>Weather_Conditions</th>\n",
       "      <th>Vehicle_Type</th>\n",
       "    </tr>\n",
       "  </thead>\n",
       "  <tbody>\n",
       "    <tr>\n",
       "      <th>0</th>\n",
       "      <td>False</td>\n",
       "      <td>False</td>\n",
       "      <td>False</td>\n",
       "      <td>False</td>\n",
       "      <td>False</td>\n",
       "      <td>False</td>\n",
       "      <td>False</td>\n",
       "      <td>False</td>\n",
       "      <td>False</td>\n",
       "      <td>False</td>\n",
       "      <td>False</td>\n",
       "      <td>False</td>\n",
       "      <td>False</td>\n",
       "      <td>False</td>\n",
       "    </tr>\n",
       "    <tr>\n",
       "      <th>1</th>\n",
       "      <td>False</td>\n",
       "      <td>False</td>\n",
       "      <td>False</td>\n",
       "      <td>False</td>\n",
       "      <td>False</td>\n",
       "      <td>False</td>\n",
       "      <td>False</td>\n",
       "      <td>False</td>\n",
       "      <td>False</td>\n",
       "      <td>False</td>\n",
       "      <td>False</td>\n",
       "      <td>False</td>\n",
       "      <td>False</td>\n",
       "      <td>False</td>\n",
       "    </tr>\n",
       "    <tr>\n",
       "      <th>2</th>\n",
       "      <td>False</td>\n",
       "      <td>False</td>\n",
       "      <td>False</td>\n",
       "      <td>False</td>\n",
       "      <td>False</td>\n",
       "      <td>False</td>\n",
       "      <td>False</td>\n",
       "      <td>False</td>\n",
       "      <td>False</td>\n",
       "      <td>False</td>\n",
       "      <td>True</td>\n",
       "      <td>False</td>\n",
       "      <td>True</td>\n",
       "      <td>False</td>\n",
       "    </tr>\n",
       "    <tr>\n",
       "      <th>3</th>\n",
       "      <td>False</td>\n",
       "      <td>False</td>\n",
       "      <td>False</td>\n",
       "      <td>False</td>\n",
       "      <td>False</td>\n",
       "      <td>False</td>\n",
       "      <td>False</td>\n",
       "      <td>False</td>\n",
       "      <td>False</td>\n",
       "      <td>False</td>\n",
       "      <td>False</td>\n",
       "      <td>False</td>\n",
       "      <td>False</td>\n",
       "      <td>False</td>\n",
       "    </tr>\n",
       "    <tr>\n",
       "      <th>4</th>\n",
       "      <td>False</td>\n",
       "      <td>False</td>\n",
       "      <td>False</td>\n",
       "      <td>False</td>\n",
       "      <td>False</td>\n",
       "      <td>False</td>\n",
       "      <td>False</td>\n",
       "      <td>False</td>\n",
       "      <td>False</td>\n",
       "      <td>False</td>\n",
       "      <td>True</td>\n",
       "      <td>False</td>\n",
       "      <td>True</td>\n",
       "      <td>False</td>\n",
       "    </tr>\n",
       "    <tr>\n",
       "      <th>...</th>\n",
       "      <td>...</td>\n",
       "      <td>...</td>\n",
       "      <td>...</td>\n",
       "      <td>...</td>\n",
       "      <td>...</td>\n",
       "      <td>...</td>\n",
       "      <td>...</td>\n",
       "      <td>...</td>\n",
       "      <td>...</td>\n",
       "      <td>...</td>\n",
       "      <td>...</td>\n",
       "      <td>...</td>\n",
       "      <td>...</td>\n",
       "      <td>...</td>\n",
       "    </tr>\n",
       "    <tr>\n",
       "      <th>660674</th>\n",
       "      <td>False</td>\n",
       "      <td>False</td>\n",
       "      <td>False</td>\n",
       "      <td>False</td>\n",
       "      <td>False</td>\n",
       "      <td>False</td>\n",
       "      <td>False</td>\n",
       "      <td>False</td>\n",
       "      <td>False</td>\n",
       "      <td>False</td>\n",
       "      <td>False</td>\n",
       "      <td>False</td>\n",
       "      <td>False</td>\n",
       "      <td>False</td>\n",
       "    </tr>\n",
       "    <tr>\n",
       "      <th>660675</th>\n",
       "      <td>False</td>\n",
       "      <td>False</td>\n",
       "      <td>False</td>\n",
       "      <td>False</td>\n",
       "      <td>False</td>\n",
       "      <td>False</td>\n",
       "      <td>False</td>\n",
       "      <td>False</td>\n",
       "      <td>False</td>\n",
       "      <td>False</td>\n",
       "      <td>False</td>\n",
       "      <td>False</td>\n",
       "      <td>False</td>\n",
       "      <td>False</td>\n",
       "    </tr>\n",
       "    <tr>\n",
       "      <th>660676</th>\n",
       "      <td>False</td>\n",
       "      <td>False</td>\n",
       "      <td>False</td>\n",
       "      <td>False</td>\n",
       "      <td>False</td>\n",
       "      <td>False</td>\n",
       "      <td>False</td>\n",
       "      <td>False</td>\n",
       "      <td>False</td>\n",
       "      <td>False</td>\n",
       "      <td>False</td>\n",
       "      <td>False</td>\n",
       "      <td>False</td>\n",
       "      <td>False</td>\n",
       "    </tr>\n",
       "    <tr>\n",
       "      <th>660677</th>\n",
       "      <td>False</td>\n",
       "      <td>False</td>\n",
       "      <td>False</td>\n",
       "      <td>False</td>\n",
       "      <td>False</td>\n",
       "      <td>False</td>\n",
       "      <td>False</td>\n",
       "      <td>False</td>\n",
       "      <td>False</td>\n",
       "      <td>False</td>\n",
       "      <td>False</td>\n",
       "      <td>False</td>\n",
       "      <td>False</td>\n",
       "      <td>False</td>\n",
       "    </tr>\n",
       "    <tr>\n",
       "      <th>660678</th>\n",
       "      <td>False</td>\n",
       "      <td>False</td>\n",
       "      <td>False</td>\n",
       "      <td>False</td>\n",
       "      <td>False</td>\n",
       "      <td>False</td>\n",
       "      <td>False</td>\n",
       "      <td>False</td>\n",
       "      <td>False</td>\n",
       "      <td>False</td>\n",
       "      <td>False</td>\n",
       "      <td>False</td>\n",
       "      <td>False</td>\n",
       "      <td>False</td>\n",
       "    </tr>\n",
       "  </tbody>\n",
       "</table>\n",
       "<p>660679 rows × 14 columns</p>\n",
       "</div>"
      ],
      "text/plain": [
       "        Index  Accident_Severity  Accident Date  Latitude  Light_Conditions  \\\n",
       "0       False              False          False     False             False   \n",
       "1       False              False          False     False             False   \n",
       "2       False              False          False     False             False   \n",
       "3       False              False          False     False             False   \n",
       "4       False              False          False     False             False   \n",
       "...       ...                ...            ...       ...               ...   \n",
       "660674  False              False          False     False             False   \n",
       "660675  False              False          False     False             False   \n",
       "660676  False              False          False     False             False   \n",
       "660677  False              False          False     False             False   \n",
       "660678  False              False          False     False             False   \n",
       "\n",
       "        District Area  Longitude  Number_of_Casualties  Number_of_Vehicles  \\\n",
       "0               False      False                 False               False   \n",
       "1               False      False                 False               False   \n",
       "2               False      False                 False               False   \n",
       "3               False      False                 False               False   \n",
       "4               False      False                 False               False   \n",
       "...               ...        ...                   ...                 ...   \n",
       "660674          False      False                 False               False   \n",
       "660675          False      False                 False               False   \n",
       "660676          False      False                 False               False   \n",
       "660677          False      False                 False               False   \n",
       "660678          False      False                 False               False   \n",
       "\n",
       "        Road_Surface_Conditions  Road_Type  Urban_or_Rural_Area  \\\n",
       "0                         False      False                False   \n",
       "1                         False      False                False   \n",
       "2                         False       True                False   \n",
       "3                         False      False                False   \n",
       "4                         False       True                False   \n",
       "...                         ...        ...                  ...   \n",
       "660674                    False      False                False   \n",
       "660675                    False      False                False   \n",
       "660676                    False      False                False   \n",
       "660677                    False      False                False   \n",
       "660678                    False      False                False   \n",
       "\n",
       "        Weather_Conditions  Vehicle_Type  \n",
       "0                    False         False  \n",
       "1                    False         False  \n",
       "2                     True         False  \n",
       "3                    False         False  \n",
       "4                     True         False  \n",
       "...                    ...           ...  \n",
       "660674               False         False  \n",
       "660675               False         False  \n",
       "660676               False         False  \n",
       "660677               False         False  \n",
       "660678               False         False  \n",
       "\n",
       "[660679 rows x 14 columns]"
      ]
     },
     "execution_count": 6,
     "metadata": {},
     "output_type": "execute_result"
    }
   ],
   "source": [
    "UK.isnull()"
   ]
  },
  {
   "cell_type": "code",
   "execution_count": 7,
   "id": "0728c2d0-7138-44ee-aa95-c8288355ddfb",
   "metadata": {},
   "outputs": [
    {
     "data": {
      "text/plain": [
       "Index                          0\n",
       "Accident_Severity              0\n",
       "Accident Date                  0\n",
       "Latitude                      25\n",
       "Light_Conditions               0\n",
       "District Area                  0\n",
       "Longitude                     26\n",
       "Number_of_Casualties           0\n",
       "Number_of_Vehicles             0\n",
       "Road_Surface_Conditions      726\n",
       "Road_Type                   4520\n",
       "Urban_or_Rural_Area           15\n",
       "Weather_Conditions         14128\n",
       "Vehicle_Type                   0\n",
       "dtype: int64"
      ]
     },
     "execution_count": 7,
     "metadata": {},
     "output_type": "execute_result"
    }
   ],
   "source": [
    "UK.isnull().sum()"
   ]
  },
  {
   "cell_type": "code",
   "execution_count": 8,
   "id": "a8c88033-ea97-44b0-bb34-588d4ac53e56",
   "metadata": {},
   "outputs": [
    {
     "data": {
      "text/plain": [
       "np.float64(52.553865761110956)"
      ]
     },
     "execution_count": 8,
     "metadata": {},
     "output_type": "execute_result"
    }
   ],
   "source": [
    "UK['Latitude'].mean()"
   ]
  },
  {
   "cell_type": "code",
   "execution_count": 9,
   "id": "5764a41e-12bd-469e-97e8-f74c7df78b34",
   "metadata": {},
   "outputs": [
    {
     "data": {
      "text/plain": [
       "np.float64(-1.431210368502073)"
      ]
     },
     "execution_count": 9,
     "metadata": {},
     "output_type": "execute_result"
    }
   ],
   "source": [
    "UK['Longitude'].mean()"
   ]
  },
  {
   "cell_type": "code",
   "execution_count": 10,
   "id": "17648a7a-e345-407e-a753-902f820f8291",
   "metadata": {},
   "outputs": [
    {
     "data": {
      "text/plain": [
       "0    Dry\n",
       "Name: Road_Surface_Conditions, dtype: object"
      ]
     },
     "execution_count": 10,
     "metadata": {},
     "output_type": "execute_result"
    }
   ],
   "source": [
    "UK['Road_Surface_Conditions'].mode()"
   ]
  },
  {
   "cell_type": "code",
   "execution_count": 11,
   "id": "332acc0f-0f97-4c64-9adc-ffe11161562d",
   "metadata": {},
   "outputs": [
    {
     "data": {
      "text/plain": [
       "0    Single carriageway\n",
       "Name: Road_Type, dtype: object"
      ]
     },
     "execution_count": 11,
     "metadata": {},
     "output_type": "execute_result"
    }
   ],
   "source": [
    "UK['Road_Type'].mode()"
   ]
  },
  {
   "cell_type": "code",
   "execution_count": 12,
   "id": "dd8184cb-4b2b-4f80-bb1a-9fc0c94474f2",
   "metadata": {},
   "outputs": [
    {
     "data": {
      "text/plain": [
       "0    Urban\n",
       "Name: Urban_or_Rural_Area, dtype: object"
      ]
     },
     "execution_count": 12,
     "metadata": {},
     "output_type": "execute_result"
    }
   ],
   "source": [
    "UK['Urban_or_Rural_Area'].mode()"
   ]
  },
  {
   "cell_type": "code",
   "execution_count": 13,
   "id": "6e4a6d17-5c23-41c2-b6bd-15a126f9d5af",
   "metadata": {},
   "outputs": [
    {
     "data": {
      "text/plain": [
       "0    Fine no high winds\n",
       "Name: Weather_Conditions, dtype: object"
      ]
     },
     "execution_count": 13,
     "metadata": {},
     "output_type": "execute_result"
    }
   ],
   "source": [
    "UK['Weather_Conditions'].mode()"
   ]
  },
  {
   "cell_type": "code",
   "execution_count": 14,
   "id": "57459112-6689-4956-af95-836d5ae1f683",
   "metadata": {},
   "outputs": [],
   "source": []
  },
  {
   "cell_type": "code",
   "execution_count": 15,
   "id": "d229139e-cc55-46f0-af47-b8d7edf7079c",
   "metadata": {},
   "outputs": [
    {
     "data": {
      "text/plain": [
       "Index                      0\n",
       "Accident_Severity          0\n",
       "Accident Date              0\n",
       "Latitude                   0\n",
       "Light_Conditions           0\n",
       "District Area              0\n",
       "Longitude                  0\n",
       "Number_of_Casualties       0\n",
       "Number_of_Vehicles         0\n",
       "Road_Surface_Conditions    0\n",
       "Road_Type                  0\n",
       "Urban_or_Rural_Area        0\n",
       "Weather_Conditions         0\n",
       "Vehicle_Type               0\n",
       "dtype: int64"
      ]
     },
     "execution_count": 15,
     "metadata": {},
     "output_type": "execute_result"
    }
   ],
   "source": [
    "UK.isnull().sum()"
   ]
  },
  {
   "cell_type": "code",
   "execution_count": 98,
   "id": "2022a0b4-a4c4-4300-b1ab-a298fd117b2b",
   "metadata": {},
   "outputs": [],
   "source": [
    "UK['Latitude'] = UK['Latitude'].fillna(UK['Latitude'].mean())\n",
    "UK['Longitude'] = UK['Longitude'].fillna(UK['Longitude'].mean())\n",
    "UK['Road_Surface_Conditions'] = UK['Road_Surface_Conditions'].fillna(UK['Road_Surface_Conditions'].mode()[0])\n",
    "UK['Road_Type'] = UK['Road_Type'].fillna(UK['Road_Type'].mode()[0])\n",
    "UK['Urban_or_Rural_Area'] = UK['Urban_or_Rural_Area'].fillna(UK['Urban_or_Rural_Area'].mode()[0])\n",
    "UK['Weather_Conditions'] = UK['Weather_Conditions'].fillna(UK['Weather_Conditions'].mode()[0])"
   ]
  },
  {
   "cell_type": "markdown",
   "id": "5e6363a2-5558-4701-a784-261856ac19b5",
   "metadata": {},
   "source": [
    "# CHANGE THE DATA TYPE OF A COLUMN"
   ]
  },
  {
   "cell_type": "code",
   "execution_count": 16,
   "id": "eafeaf64-75f7-4c74-a9c9-50cd2df173f4",
   "metadata": {},
   "outputs": [
    {
     "name": "stdout",
     "output_type": "stream",
     "text": [
      "<class 'pandas.core.frame.DataFrame'>\n",
      "RangeIndex: 660679 entries, 0 to 660678\n",
      "Data columns (total 14 columns):\n",
      " #   Column                   Non-Null Count   Dtype  \n",
      "---  ------                   --------------   -----  \n",
      " 0   Index                    660679 non-null  object \n",
      " 1   Accident_Severity        660679 non-null  object \n",
      " 2   Accident Date            660679 non-null  object \n",
      " 3   Latitude                 660679 non-null  float64\n",
      " 4   Light_Conditions         660679 non-null  object \n",
      " 5   District Area            660679 non-null  object \n",
      " 6   Longitude                660679 non-null  float64\n",
      " 7   Number_of_Casualties     660679 non-null  int64  \n",
      " 8   Number_of_Vehicles       660679 non-null  int64  \n",
      " 9   Road_Surface_Conditions  660679 non-null  object \n",
      " 10  Road_Type                660679 non-null  object \n",
      " 11  Urban_or_Rural_Area      660679 non-null  object \n",
      " 12  Weather_Conditions       660679 non-null  object \n",
      " 13  Vehicle_Type             660679 non-null  object \n",
      "dtypes: float64(2), int64(2), object(10)\n",
      "memory usage: 70.6+ MB\n"
     ]
    }
   ],
   "source": [
    "UK.info()"
   ]
  },
  {
   "cell_type": "code",
   "execution_count": 17,
   "id": "f7be1200-1ad8-4edc-9c97-ddcd616e0449",
   "metadata": {},
   "outputs": [],
   "source": [
    "UK['Index'] = UK['Index'].astype('category')\n",
    "UK['Accident_Severity'] = UK['Accident_Severity'].astype('category')\n",
    "UK['Accident Date'] = UK['Accident Date'].astype('category')\n",
    "UK['Light_Conditions'] = UK['Light_Conditions'].astype('category')\n",
    "UK['District Area'] = UK['District Area'].astype('category')\n",
    "UK['Road_Surface_Conditions'] = UK['Road_Surface_Conditions'].astype('category')\n",
    "UK['Road_Type'] = UK['Road_Type'].astype('category')\n",
    "UK['Urban_or_Rural_Area'] = UK['Urban_or_Rural_Area'].astype('category')\n",
    "UK['Weather_Conditions'] = UK['Weather_Conditions'].astype('category')\n",
    "UK['Vehicle_Type'] = UK['Vehicle_Type'].astype('category')"
   ]
  },
  {
   "cell_type": "code",
   "execution_count": 18,
   "id": "ea4ef25c-65ff-4d3d-9320-d7cae9c786ce",
   "metadata": {},
   "outputs": [
    {
     "name": "stdout",
     "output_type": "stream",
     "text": [
      "<class 'pandas.core.frame.DataFrame'>\n",
      "RangeIndex: 660679 entries, 0 to 660678\n",
      "Data columns (total 14 columns):\n",
      " #   Column                   Non-Null Count   Dtype   \n",
      "---  ------                   --------------   -----   \n",
      " 0   Index                    660679 non-null  category\n",
      " 1   Accident_Severity        660679 non-null  category\n",
      " 2   Accident Date            660679 non-null  category\n",
      " 3   Latitude                 660679 non-null  float64 \n",
      " 4   Light_Conditions         660679 non-null  category\n",
      " 5   District Area            660679 non-null  category\n",
      " 6   Longitude                660679 non-null  float64 \n",
      " 7   Number_of_Casualties     660679 non-null  int64   \n",
      " 8   Number_of_Vehicles       660679 non-null  int64   \n",
      " 9   Road_Surface_Conditions  660679 non-null  category\n",
      " 10  Road_Type                660679 non-null  category\n",
      " 11  Urban_or_Rural_Area      660679 non-null  category\n",
      " 12  Weather_Conditions       660679 non-null  category\n",
      " 13  Vehicle_Type             660679 non-null  category\n",
      "dtypes: category(10), float64(2), int64(2)\n",
      "memory usage: 49.0 MB\n"
     ]
    }
   ],
   "source": [
    "UK.info()"
   ]
  },
  {
   "cell_type": "markdown",
   "id": "128fd7da-2a6f-4a9c-8317-ad66beae1e69",
   "metadata": {},
   "source": [
    "# QUESTIONS AND INSIGHTS"
   ]
  },
  {
   "cell_type": "markdown",
   "id": "24d07908-f90a-4639-9e9a-fd854036cfaf",
   "metadata": {},
   "source": [
    "## 1. How many Fatal, Serious, and Slight accidents were reported in the accident severity? Which kind of accident has the highest number and which has the lowest?"
   ]
  },
  {
   "cell_type": "code",
   "execution_count": 19,
   "id": "5fcf5d4d-43dd-44f6-b98b-364c12ac7ccf",
   "metadata": {},
   "outputs": [],
   "source": [
    "Accident_df = UK['Accident_Severity'].value_counts()"
   ]
  },
  {
   "cell_type": "code",
   "execution_count": 20,
   "id": "da7c863d-b9f9-43f1-be17-584d649c63a1",
   "metadata": {},
   "outputs": [
    {
     "data": {
      "text/plain": [
       "Accident_Severity\n",
       "Slight     563801\n",
       "Serious     88217\n",
       "Fatal        8661\n",
       "Name: count, dtype: int64"
      ]
     },
     "execution_count": 20,
     "metadata": {},
     "output_type": "execute_result"
    }
   ],
   "source": [
    "Accident_df"
   ]
  },
  {
   "cell_type": "markdown",
   "id": "73b00488-71ac-485c-9927-239c610cc043",
   "metadata": {},
   "source": [
    "### ***Insight:*** According to the report, the total number of Fatal accidents is **8,661**, which is the lowest. Serious accidents are **88,217**, while Slight accidents have the highest total of **563,801**.|"
   ]
  },
  {
   "cell_type": "markdown",
   "id": "49aaa064-5d4f-4b81-add7-b721fcb13988",
   "metadata": {},
   "source": [
    "# 2. How many accidents happened on 26-08-2019?"
   ]
  },
  {
   "cell_type": "code",
   "execution_count": 21,
   "id": "b903c1c5-a1fb-46fc-b1b5-3081b8a7e27d",
   "metadata": {},
   "outputs": [
    {
     "data": {
      "text/plain": [
       "Accident_Severity\n",
       "Slight     208\n",
       "Serious     35\n",
       "Fatal        9\n",
       "Name: count, dtype: int64"
      ]
     },
     "execution_count": 21,
     "metadata": {},
     "output_type": "execute_result"
    }
   ],
   "source": [
    "UK[UK['Accident Date']=='28-02-2022']['Accident_Severity'].value_counts()"
   ]
  },
  {
   "cell_type": "markdown",
   "id": "cc4dfdec-fe4f-4189-aad8-cf8783a56de1",
   "metadata": {},
   "source": [
    "## ***Insight:*** On 28-02-2022, most accidents were Slight, fewer were Serious and Fatal."
   ]
  },
  {
   "cell_type": "markdown",
   "id": "e3dcade1-d2c0-4772-869a-d9169b246aae",
   "metadata": {},
   "source": [
    "# 3. What is the average number of vehicles involved in an accident?"
   ]
  },
  {
   "cell_type": "code",
   "execution_count": 22,
   "id": "93de4b76-e45a-468b-b2a7-27e9b8f9cf51",
   "metadata": {},
   "outputs": [],
   "source": [
    "avg_vehicles = UK['Number_of_Vehicles'].mean()"
   ]
  },
  {
   "cell_type": "code",
   "execution_count": 23,
   "id": "fb420486-2282-4522-aa73-a1f1b4baa291",
   "metadata": {},
   "outputs": [
    {
     "data": {
      "text/plain": [
       "np.float64(1.8312554205597575)"
      ]
     },
     "execution_count": 23,
     "metadata": {},
     "output_type": "execute_result"
    }
   ],
   "source": [
    "avg_vehicles"
   ]
  },
  {
   "cell_type": "markdown",
   "id": "a1975a74-6e76-4718-9f92-9fde5bf9b7fe",
   "metadata": {},
   "source": [
    "## ***Insight:*** The average number of vehicles involved in an accident is about **1.83**."
   ]
  },
  {
   "cell_type": "markdown",
   "id": "4610bf39-e853-4825-ae63-eb8380b438de",
   "metadata": {},
   "source": [
    "# 4. According to data, what is the usual weather condition during an accidents?"
   ]
  },
  {
   "cell_type": "code",
   "execution_count": 24,
   "id": "ad73304c-ef12-4c0a-a845-fd0ce719767a",
   "metadata": {},
   "outputs": [],
   "source": [
    "weather_cdn = UK['Weather_Conditions'].mode()[0]"
   ]
  },
  {
   "cell_type": "code",
   "execution_count": 25,
   "id": "1b37ecd5-8260-4b62-8f14-9de54baaf445",
   "metadata": {},
   "outputs": [
    {
     "data": {
      "text/plain": [
       "'Fine no high winds'"
      ]
     },
     "execution_count": 25,
     "metadata": {},
     "output_type": "execute_result"
    }
   ],
   "source": [
    "weather_cdn"
   ]
  },
  {
   "cell_type": "markdown",
   "id": "66fb16b2-4b58-4363-8b19-4a649e5c8c87",
   "metadata": {},
   "source": [
    "## ***Insights:*** Most accidents happen when the weather is **Fine with no high winds**."
   ]
  },
  {
   "cell_type": "markdown",
   "id": "6559c8fa-1782-40ae-94cc-5dfc4a3a4292",
   "metadata": {},
   "source": [
    "# 5. In what area does serious accident usually happened?"
   ]
  },
  {
   "cell_type": "code",
   "execution_count": 26,
   "id": "57e332db-1f88-43b2-9913-8138c40dac97",
   "metadata": {},
   "outputs": [],
   "source": [
    "serious_acc = UK[UK['Accident_Severity'] == 'Serious']"
   ]
  },
  {
   "cell_type": "code",
   "execution_count": 27,
   "id": "f3e4dab8-9177-48a3-bed4-d6c4419c5fd8",
   "metadata": {},
   "outputs": [
    {
     "data": {
      "text/html": [
       "<div>\n",
       "<style scoped>\n",
       "    .dataframe tbody tr th:only-of-type {\n",
       "        vertical-align: middle;\n",
       "    }\n",
       "\n",
       "    .dataframe tbody tr th {\n",
       "        vertical-align: top;\n",
       "    }\n",
       "\n",
       "    .dataframe thead th {\n",
       "        text-align: right;\n",
       "    }\n",
       "</style>\n",
       "<table border=\"1\" class=\"dataframe\">\n",
       "  <thead>\n",
       "    <tr style=\"text-align: right;\">\n",
       "      <th></th>\n",
       "      <th>Index</th>\n",
       "      <th>Accident_Severity</th>\n",
       "      <th>Accident Date</th>\n",
       "      <th>Latitude</th>\n",
       "      <th>Light_Conditions</th>\n",
       "      <th>District Area</th>\n",
       "      <th>Longitude</th>\n",
       "      <th>Number_of_Casualties</th>\n",
       "      <th>Number_of_Vehicles</th>\n",
       "      <th>Road_Surface_Conditions</th>\n",
       "      <th>Road_Type</th>\n",
       "      <th>Urban_or_Rural_Area</th>\n",
       "      <th>Weather_Conditions</th>\n",
       "      <th>Vehicle_Type</th>\n",
       "    </tr>\n",
       "  </thead>\n",
       "  <tbody>\n",
       "    <tr>\n",
       "      <th>0</th>\n",
       "      <td>200701BS64157</td>\n",
       "      <td>Serious</td>\n",
       "      <td>5/6/2019</td>\n",
       "      <td>51.506187</td>\n",
       "      <td>Darkness - lights lit</td>\n",
       "      <td>Kensington and Chelsea</td>\n",
       "      <td>-0.209082</td>\n",
       "      <td>1</td>\n",
       "      <td>2</td>\n",
       "      <td>Dry</td>\n",
       "      <td>Single carriageway</td>\n",
       "      <td>Urban</td>\n",
       "      <td>Fine no high winds</td>\n",
       "      <td>Car</td>\n",
       "    </tr>\n",
       "    <tr>\n",
       "      <th>1</th>\n",
       "      <td>200701BS65737</td>\n",
       "      <td>Serious</td>\n",
       "      <td>2/7/2019</td>\n",
       "      <td>51.495029</td>\n",
       "      <td>Daylight</td>\n",
       "      <td>Kensington and Chelsea</td>\n",
       "      <td>-0.173647</td>\n",
       "      <td>1</td>\n",
       "      <td>2</td>\n",
       "      <td>Wet or damp</td>\n",
       "      <td>Single carriageway</td>\n",
       "      <td>Urban</td>\n",
       "      <td>Raining no high winds</td>\n",
       "      <td>Car</td>\n",
       "    </tr>\n",
       "    <tr>\n",
       "      <th>2</th>\n",
       "      <td>200701BS66127</td>\n",
       "      <td>Serious</td>\n",
       "      <td>26-08-2019</td>\n",
       "      <td>51.517715</td>\n",
       "      <td>Darkness - lighting unknown</td>\n",
       "      <td>Kensington and Chelsea</td>\n",
       "      <td>-0.210215</td>\n",
       "      <td>1</td>\n",
       "      <td>3</td>\n",
       "      <td>Dry</td>\n",
       "      <td>Single carriageway</td>\n",
       "      <td>Urban</td>\n",
       "      <td>Fine no high winds</td>\n",
       "      <td>Taxi/Private hire car</td>\n",
       "    </tr>\n",
       "    <tr>\n",
       "      <th>3</th>\n",
       "      <td>200701BS66128</td>\n",
       "      <td>Serious</td>\n",
       "      <td>16-08-2019</td>\n",
       "      <td>51.495478</td>\n",
       "      <td>Daylight</td>\n",
       "      <td>Kensington and Chelsea</td>\n",
       "      <td>-0.202731</td>\n",
       "      <td>1</td>\n",
       "      <td>4</td>\n",
       "      <td>Dry</td>\n",
       "      <td>Single carriageway</td>\n",
       "      <td>Urban</td>\n",
       "      <td>Fine no high winds</td>\n",
       "      <td>Bus or coach (17 or more pass seats)</td>\n",
       "    </tr>\n",
       "    <tr>\n",
       "      <th>5</th>\n",
       "      <td>200701BS67159</td>\n",
       "      <td>Serious</td>\n",
       "      <td>18-09-2019</td>\n",
       "      <td>51.497750</td>\n",
       "      <td>Daylight</td>\n",
       "      <td>Kensington and Chelsea</td>\n",
       "      <td>-0.192556</td>\n",
       "      <td>2</td>\n",
       "      <td>3</td>\n",
       "      <td>Dry</td>\n",
       "      <td>Single carriageway</td>\n",
       "      <td>Urban</td>\n",
       "      <td>Fine no high winds</td>\n",
       "      <td>Car</td>\n",
       "    </tr>\n",
       "    <tr>\n",
       "      <th>...</th>\n",
       "      <td>...</td>\n",
       "      <td>...</td>\n",
       "      <td>...</td>\n",
       "      <td>...</td>\n",
       "      <td>...</td>\n",
       "      <td>...</td>\n",
       "      <td>...</td>\n",
       "      <td>...</td>\n",
       "      <td>...</td>\n",
       "      <td>...</td>\n",
       "      <td>...</td>\n",
       "      <td>...</td>\n",
       "      <td>...</td>\n",
       "      <td>...</td>\n",
       "    </tr>\n",
       "    <tr>\n",
       "      <th>660629</th>\n",
       "      <td>201091NL00686</td>\n",
       "      <td>Serious</td>\n",
       "      <td>11/2/2022</td>\n",
       "      <td>57.687933</td>\n",
       "      <td>Daylight</td>\n",
       "      <td>Shetland Islands</td>\n",
       "      <td>-4.176860</td>\n",
       "      <td>1</td>\n",
       "      <td>2</td>\n",
       "      <td>Dry</td>\n",
       "      <td>Single carriageway</td>\n",
       "      <td>Rural</td>\n",
       "      <td>Fine + high winds</td>\n",
       "      <td>Car</td>\n",
       "    </tr>\n",
       "    <tr>\n",
       "      <th>660645</th>\n",
       "      <td>201091NL05842</td>\n",
       "      <td>Serious</td>\n",
       "      <td>18-10-2022</td>\n",
       "      <td>60.162660</td>\n",
       "      <td>Daylight</td>\n",
       "      <td>Shetland Islands</td>\n",
       "      <td>-1.165232</td>\n",
       "      <td>1</td>\n",
       "      <td>1</td>\n",
       "      <td>Dry</td>\n",
       "      <td>Single carriageway</td>\n",
       "      <td>Rural</td>\n",
       "      <td>Fine + high winds</td>\n",
       "      <td>Car</td>\n",
       "    </tr>\n",
       "    <tr>\n",
       "      <th>660672</th>\n",
       "      <td>201091NM01085</td>\n",
       "      <td>Serious</td>\n",
       "      <td>29-01-2022</td>\n",
       "      <td>57.170725</td>\n",
       "      <td>Daylight</td>\n",
       "      <td>Highland</td>\n",
       "      <td>-3.852421</td>\n",
       "      <td>1</td>\n",
       "      <td>2</td>\n",
       "      <td>Snow</td>\n",
       "      <td>Single carriageway</td>\n",
       "      <td>Rural</td>\n",
       "      <td>Fine no high winds</td>\n",
       "      <td>Car</td>\n",
       "    </tr>\n",
       "    <tr>\n",
       "      <th>660677</th>\n",
       "      <td>201091NM01964</td>\n",
       "      <td>Serious</td>\n",
       "      <td>23-02-2022</td>\n",
       "      <td>57.214898</td>\n",
       "      <td>Darkness - no lighting</td>\n",
       "      <td>Highland</td>\n",
       "      <td>-3.823997</td>\n",
       "      <td>1</td>\n",
       "      <td>2</td>\n",
       "      <td>Wet or damp</td>\n",
       "      <td>Single carriageway</td>\n",
       "      <td>Rural</td>\n",
       "      <td>Fine no high winds</td>\n",
       "      <td>Motorcycle over 500cc</td>\n",
       "    </tr>\n",
       "    <tr>\n",
       "      <th>660678</th>\n",
       "      <td>201091NM02142</td>\n",
       "      <td>Serious</td>\n",
       "      <td>28-02-2022</td>\n",
       "      <td>57.575210</td>\n",
       "      <td>Daylight</td>\n",
       "      <td>Highland</td>\n",
       "      <td>-3.895673</td>\n",
       "      <td>1</td>\n",
       "      <td>1</td>\n",
       "      <td>Wet or damp</td>\n",
       "      <td>Dual carriageway</td>\n",
       "      <td>Rural</td>\n",
       "      <td>Snowing no high winds</td>\n",
       "      <td>Car</td>\n",
       "    </tr>\n",
       "  </tbody>\n",
       "</table>\n",
       "<p>88217 rows × 14 columns</p>\n",
       "</div>"
      ],
      "text/plain": [
       "                Index Accident_Severity Accident Date   Latitude  \\\n",
       "0       200701BS64157           Serious      5/6/2019  51.506187   \n",
       "1       200701BS65737           Serious      2/7/2019  51.495029   \n",
       "2       200701BS66127           Serious    26-08-2019  51.517715   \n",
       "3       200701BS66128           Serious    16-08-2019  51.495478   \n",
       "5       200701BS67159           Serious    18-09-2019  51.497750   \n",
       "...               ...               ...           ...        ...   \n",
       "660629  201091NL00686           Serious     11/2/2022  57.687933   \n",
       "660645  201091NL05842           Serious    18-10-2022  60.162660   \n",
       "660672  201091NM01085           Serious    29-01-2022  57.170725   \n",
       "660677  201091NM01964           Serious    23-02-2022  57.214898   \n",
       "660678  201091NM02142           Serious    28-02-2022  57.575210   \n",
       "\n",
       "                   Light_Conditions           District Area  Longitude  \\\n",
       "0             Darkness - lights lit  Kensington and Chelsea  -0.209082   \n",
       "1                          Daylight  Kensington and Chelsea  -0.173647   \n",
       "2       Darkness - lighting unknown  Kensington and Chelsea  -0.210215   \n",
       "3                          Daylight  Kensington and Chelsea  -0.202731   \n",
       "5                          Daylight  Kensington and Chelsea  -0.192556   \n",
       "...                             ...                     ...        ...   \n",
       "660629                     Daylight        Shetland Islands  -4.176860   \n",
       "660645                     Daylight        Shetland Islands  -1.165232   \n",
       "660672                     Daylight                Highland  -3.852421   \n",
       "660677       Darkness - no lighting                Highland  -3.823997   \n",
       "660678                     Daylight                Highland  -3.895673   \n",
       "\n",
       "        Number_of_Casualties  Number_of_Vehicles Road_Surface_Conditions  \\\n",
       "0                          1                   2                     Dry   \n",
       "1                          1                   2             Wet or damp   \n",
       "2                          1                   3                     Dry   \n",
       "3                          1                   4                     Dry   \n",
       "5                          2                   3                     Dry   \n",
       "...                      ...                 ...                     ...   \n",
       "660629                     1                   2                     Dry   \n",
       "660645                     1                   1                     Dry   \n",
       "660672                     1                   2                    Snow   \n",
       "660677                     1                   2             Wet or damp   \n",
       "660678                     1                   1             Wet or damp   \n",
       "\n",
       "                 Road_Type Urban_or_Rural_Area     Weather_Conditions  \\\n",
       "0       Single carriageway               Urban     Fine no high winds   \n",
       "1       Single carriageway               Urban  Raining no high winds   \n",
       "2       Single carriageway               Urban     Fine no high winds   \n",
       "3       Single carriageway               Urban     Fine no high winds   \n",
       "5       Single carriageway               Urban     Fine no high winds   \n",
       "...                    ...                 ...                    ...   \n",
       "660629  Single carriageway               Rural      Fine + high winds   \n",
       "660645  Single carriageway               Rural      Fine + high winds   \n",
       "660672  Single carriageway               Rural     Fine no high winds   \n",
       "660677  Single carriageway               Rural     Fine no high winds   \n",
       "660678    Dual carriageway               Rural  Snowing no high winds   \n",
       "\n",
       "                                Vehicle_Type  \n",
       "0                                        Car  \n",
       "1                                        Car  \n",
       "2                      Taxi/Private hire car  \n",
       "3       Bus or coach (17 or more pass seats)  \n",
       "5                                        Car  \n",
       "...                                      ...  \n",
       "660629                                   Car  \n",
       "660645                                   Car  \n",
       "660672                                   Car  \n",
       "660677                 Motorcycle over 500cc  \n",
       "660678                                   Car  \n",
       "\n",
       "[88217 rows x 14 columns]"
      ]
     },
     "execution_count": 27,
     "metadata": {},
     "output_type": "execute_result"
    }
   ],
   "source": [
    "serious_acc"
   ]
  },
  {
   "cell_type": "code",
   "execution_count": 28,
   "id": "73e86970-a40a-4421-986c-3a724d65a1c9",
   "metadata": {},
   "outputs": [
    {
     "data": {
      "text/plain": [
       "District Area\n",
       "Birmingham                   1474\n",
       "Leeds                        1147\n",
       "Westminster                   926\n",
       "Bradford                      802\n",
       "Sheffield                     749\n",
       "                             ... \n",
       "Oswestry                       23\n",
       "Orkney Islands                 19\n",
       "Clackmannanshire               18\n",
       "Shetland Islands               15\n",
       "London Airport (Heathrow)       9\n",
       "Name: count, Length: 422, dtype: int64"
      ]
     },
     "execution_count": 28,
     "metadata": {},
     "output_type": "execute_result"
    }
   ],
   "source": [
    "serious_acc['District Area'].value_counts()"
   ]
  },
  {
   "cell_type": "markdown",
   "id": "80e7cffb-0213-4262-889d-e7127c6397cc",
   "metadata": {},
   "source": [
    "## ***Insights*** Most Serious accidents happened in **Birmingham** with **1,474 accidents**, followed by Leeds and Westminster. The fewest Serious accidents happened in London Airport (Heathrow) and Shetland Islands."
   ]
  },
  {
   "cell_type": "markdown",
   "id": "15ac199d-38ab-4f0e-8633-e97bdd558d8c",
   "metadata": {},
   "source": [
    "# 6. What type of road do accidents usually happen on?"
   ]
  },
  {
   "cell_type": "code",
   "execution_count": 29,
   "id": "47b9de54-0e49-4b88-b549-0101d02dc7fd",
   "metadata": {},
   "outputs": [],
   "source": [
    "road_acc = UK['Road_Type']"
   ]
  },
  {
   "cell_type": "code",
   "execution_count": 30,
   "id": "8d919d4b-9742-4924-8633-db3eaef6a80c",
   "metadata": {},
   "outputs": [
    {
     "data": {
      "text/plain": [
       "0         Single carriageway\n",
       "1         Single carriageway\n",
       "2         Single carriageway\n",
       "3         Single carriageway\n",
       "4         Single carriageway\n",
       "                 ...        \n",
       "660674    Single carriageway\n",
       "660675    Single carriageway\n",
       "660676    Single carriageway\n",
       "660677    Single carriageway\n",
       "660678      Dual carriageway\n",
       "Name: Road_Type, Length: 660679, dtype: category\n",
       "Categories (5, object): ['Dual carriageway', 'One way street', 'Roundabout', 'Single carriageway', 'Slip road']"
      ]
     },
     "execution_count": 30,
     "metadata": {},
     "output_type": "execute_result"
    }
   ],
   "source": [
    "road_acc"
   ]
  },
  {
   "cell_type": "code",
   "execution_count": 31,
   "id": "6329998b-283b-4fb8-ae0f-0a6c690abcc4",
   "metadata": {},
   "outputs": [
    {
     "data": {
      "text/plain": [
       "Road_Type\n",
       "Single carriageway    496663\n",
       "Dual carriageway       99424\n",
       "Roundabout             43992\n",
       "One way street         13559\n",
       "Slip road               7041\n",
       "Name: count, dtype: int64"
      ]
     },
     "execution_count": 31,
     "metadata": {},
     "output_type": "execute_result"
    }
   ],
   "source": [
    "UK['Road_Type'].value_counts()"
   ]
  },
  {
   "cell_type": "markdown",
   "id": "bfe695a6-f268-482b-9fa2-4884efb99e55",
   "metadata": {},
   "source": [
    "## ***Insight:*** Accidents usually happen on **Single carriageways**, because most accidents in the dataset happened on this type of road."
   ]
  },
  {
   "cell_type": "markdown",
   "id": "f95a0646-f2c4-4b4f-8753-5ecd0557d774",
   "metadata": {},
   "source": [
    "# 7. How many casualties usually happen per accident?"
   ]
  },
  {
   "cell_type": "code",
   "execution_count": 32,
   "id": "03dacfa7-7d66-432d-8ccc-958477769bcf",
   "metadata": {},
   "outputs": [
    {
     "data": {
      "text/plain": [
       "np.float64(1.357040257068864)"
      ]
     },
     "execution_count": 32,
     "metadata": {},
     "output_type": "execute_result"
    }
   ],
   "source": [
    "UK['Number_of_Casualties'].sum() / UK['Number_of_Casualties'].count()"
   ]
  },
  {
   "cell_type": "markdown",
   "id": "5405b370-5d77-480a-9bb8-97c0db02564d",
   "metadata": {},
   "source": [
    "## ***Insight:*** On average, there are about 1.36 casualties in each accident."
   ]
  },
  {
   "cell_type": "markdown",
   "id": "442343dc-6fd0-401b-be9b-de1c7105f47e",
   "metadata": {},
   "source": [
    "# 8. How many accidents happened in each Urban or Rural area?"
   ]
  },
  {
   "cell_type": "code",
   "execution_count": 33,
   "id": "210155ca-adec-48d5-8547-42750d018247",
   "metadata": {},
   "outputs": [
    {
     "data": {
      "text/plain": [
       "Urban_or_Rural_Area\n",
       "Rural          238990\n",
       "Unallocated        11\n",
       "Urban          421678\n",
       "Name: Index, dtype: int64"
      ]
     },
     "execution_count": 33,
     "metadata": {},
     "output_type": "execute_result"
    }
   ],
   "source": [
    "UK.groupby('Urban_or_Rural_Area')['Index'].count()"
   ]
  },
  {
   "cell_type": "markdown",
   "id": "07b61245-d9fe-4c67-b4d0-e7119b3a9f8d",
   "metadata": {},
   "source": [
    "## ***Insight:*** Most accidents happened in ***Urban areas***, fewer in Rural areas."
   ]
  },
  {
   "cell_type": "markdown",
   "id": "daf2bdf7-944b-4b15-93c5-edea16ddd649",
   "metadata": {},
   "source": [
    "# 9. How many accidents happened on Roundabouts?"
   ]
  },
  {
   "cell_type": "code",
   "execution_count": 34,
   "id": "ef3de29f-c78b-4ef8-ac9e-f59df8c1d911",
   "metadata": {},
   "outputs": [
    {
     "data": {
      "text/plain": [
       "np.int64(43992)"
      ]
     },
     "execution_count": 34,
     "metadata": {},
     "output_type": "execute_result"
    }
   ],
   "source": [
    "UK[UK['Road_Type'] == 'Roundabout']['Index'].count()"
   ]
  },
  {
   "cell_type": "markdown",
   "id": "faea98be-95c0-4ab9-a998-2a1539ca6ddd",
   "metadata": {},
   "source": [
    "## ***Insight:*** There were ***43,992*** accidents on Roundabouts."
   ]
  },
  {
   "cell_type": "markdown",
   "id": "319950c6-18f8-4942-866a-5c223fab472a",
   "metadata": {},
   "source": [
    "# 10. Which district has the most slight accident?"
   ]
  },
  {
   "cell_type": "code",
   "execution_count": 35,
   "id": "f591d97b-0c48-45a8-85eb-cc497188cfc1",
   "metadata": {},
   "outputs": [
    {
     "data": {
      "text/plain": [
       "'Birmingham'"
      ]
     },
     "execution_count": 35,
     "metadata": {},
     "output_type": "execute_result"
    }
   ],
   "source": [
    "UK[UK['Accident_Severity']=='Slight']['District Area'].mode()[0]"
   ]
  },
  {
   "cell_type": "markdown",
   "id": "5e679bd9-4a92-4254-9334-89714d89d946",
   "metadata": {},
   "source": [
    "## ***Insight:*** Most ***Slight*** accidents happened in Birmingham."
   ]
  },
  {
   "cell_type": "markdown",
   "id": "862b9004-6c85-4901-acdc-9e123b19136b",
   "metadata": {},
   "source": [
    "# 11. How many Serious accidents happened in Leeds?"
   ]
  },
  {
   "cell_type": "code",
   "execution_count": 36,
   "id": "b8f134dd-1fc6-4ba2-893a-c57700d7106c",
   "metadata": {},
   "outputs": [
    {
     "data": {
      "text/plain": [
       "np.int64(1147)"
      ]
     },
     "execution_count": 36,
     "metadata": {},
     "output_type": "execute_result"
    }
   ],
   "source": [
    "UK[(UK['Accident_Severity']=='Serious') & (UK['District Area']=='Leeds')]['Index'].count()"
   ]
  },
  {
   "cell_type": "markdown",
   "id": "c78346fc-d6f8-48c2-bfc5-6f4663130acc",
   "metadata": {},
   "source": [
    "## ***Insights:*** Leeds had recorded ***1,147** Serious accidents."
   ]
  },
  {
   "cell_type": "markdown",
   "id": "2f95077a-dad0-42a1-9888-c471de3de3f6",
   "metadata": {},
   "source": [
    "# 12. What is the most common accident?"
   ]
  },
  {
   "cell_type": "code",
   "execution_count": 37,
   "id": "15b07764-a196-49ec-ba2a-666e3d2f77bb",
   "metadata": {},
   "outputs": [
    {
     "data": {
      "text/plain": [
       "'Slight'"
      ]
     },
     "execution_count": 37,
     "metadata": {},
     "output_type": "execute_result"
    }
   ],
   "source": [
    "UK['Accident_Severity'].mode()[0]"
   ]
  },
  {
   "cell_type": "markdown",
   "id": "96e42cae-6973-417b-a3b1-26a688d3d4a4",
   "metadata": {},
   "source": [
    "## ***Insights:*** Most accidents are ***Slight***"
   ]
  },
  {
   "cell_type": "markdown",
   "id": "08d52f52-ec48-4381-a966-62c069c709c6",
   "metadata": {},
   "source": [
    "# 13. How many accidents happened in Bradford?"
   ]
  },
  {
   "cell_type": "code",
   "execution_count": 38,
   "id": "01ce509f-88a4-4870-a268-a6321da871bb",
   "metadata": {},
   "outputs": [
    {
     "data": {
      "text/plain": [
       "np.int64(6212)"
      ]
     },
     "execution_count": 38,
     "metadata": {},
     "output_type": "execute_result"
    }
   ],
   "source": [
    "UK[UK['District Area']=='Bradford']['Index'].count()"
   ]
  },
  {
   "cell_type": "markdown",
   "id": "be99d759-9778-48dc-836f-5eba7d5e8864",
   "metadata": {},
   "source": [
    "## ***Insights:*** There are total of ***802*** accidents in Bradford."
   ]
  },
  {
   "cell_type": "markdown",
   "id": "abcffd84-9cfc-4f79-a4ba-7d1535f42fd9",
   "metadata": {},
   "source": [
    "# 14. How many accidents happened in Westminster?"
   ]
  },
  {
   "cell_type": "code",
   "execution_count": 39,
   "id": "ca3e3953-6e78-44c9-8517-15ae97f575d7",
   "metadata": {},
   "outputs": [
    {
     "data": {
      "text/plain": [
       "np.int64(5706)"
      ]
     },
     "execution_count": 39,
     "metadata": {},
     "output_type": "execute_result"
    }
   ],
   "source": [
    "UK[UK['District Area']=='Westminster']['Index'].count()"
   ]
  },
  {
   "cell_type": "markdown",
   "id": "2dcf29ec-faa7-454d-ac0a-e8c83b6c5b73",
   "metadata": {},
   "source": [
    "## ***Insights:*** There are ***5,706*** accidents in Westminster."
   ]
  },
  {
   "cell_type": "markdown",
   "id": "10cf674e-68e8-4569-9ce6-2586fb1426c6",
   "metadata": {},
   "source": [
    "# 15. What is the usual type of vehicle involed in accidents?"
   ]
  },
  {
   "cell_type": "code",
   "execution_count": 40,
   "id": "5cd7b3c1-654e-499b-86f4-0562880b5ea0",
   "metadata": {},
   "outputs": [
    {
     "data": {
      "text/plain": [
       "'Car'"
      ]
     },
     "execution_count": 40,
     "metadata": {},
     "output_type": "execute_result"
    }
   ],
   "source": [
    "UK['Vehicle_Type'].mode()[0]"
   ]
  },
  {
   "cell_type": "markdown",
   "id": "54cef469-77dd-42a1-b892-50530ce73337",
   "metadata": {},
   "source": [
    "## ***Insights:*** Most accidents involve ***Cars***."
   ]
  },
  {
   "cell_type": "markdown",
   "id": "8260231d-131f-407b-ae9a-75ec64d221cf",
   "metadata": {},
   "source": [
    "# 16. How many accidents happened in London airport (Heathrow)?"
   ]
  },
  {
   "cell_type": "code",
   "execution_count": 41,
   "id": "2b9f16f3-bdf3-4164-918e-a5d209ec8eb8",
   "metadata": {},
   "outputs": [
    {
     "data": {
      "text/plain": [
       "np.int64(179)"
      ]
     },
     "execution_count": 41,
     "metadata": {},
     "output_type": "execute_result"
    }
   ],
   "source": [
    "UK[UK['District Area']=='London Airport (Heathrow)']['Index'].count()"
   ]
  },
  {
   "cell_type": "markdown",
   "id": "a9087e88-14eb-4d2e-95b2-c7ddd60921af",
   "metadata": {},
   "source": [
    "## ***Insights:*** London Airport (Heathrow) has the fewest accidents with only **179 accidents** in the dataset."
   ]
  },
  {
   "cell_type": "markdown",
   "id": "56a08555-46a9-4aad-b506-120dca7c539b",
   "metadata": {},
   "source": [
    "# 17. How many accidents involved motorcycles over 500cc?"
   ]
  },
  {
   "cell_type": "code",
   "execution_count": 42,
   "id": "4d77deeb-4b90-455b-a0a2-86a2c3cc94b5",
   "metadata": {},
   "outputs": [
    {
     "data": {
      "text/plain": [
       "np.int64(25657)"
      ]
     },
     "execution_count": 42,
     "metadata": {},
     "output_type": "execute_result"
    }
   ],
   "source": [
    "UK[UK['Vehicle_Type']=='Motorcycle over 500cc']['Index'].count()"
   ]
  },
  {
   "cell_type": "markdown",
   "id": "08ed6a38-0f6f-4363-a1c1-1c8990fce56c",
   "metadata": {},
   "source": [
    "## ***Insights:*** There are **25,657 accidents** involving Motorcycles over 500cc, but most accidents still involve Cars."
   ]
  },
  {
   "cell_type": "markdown",
   "id": "28991da2-013c-441a-9fe5-1c19b3d04d84",
   "metadata": {},
   "source": [
    "# 18. What is the average latitude where accidents happened?"
   ]
  },
  {
   "cell_type": "code",
   "execution_count": 43,
   "id": "5b52a70b-bcc8-44c5-98b1-00176c57bfd7",
   "metadata": {},
   "outputs": [
    {
     "data": {
      "text/plain": [
       "np.float64(52.553865761110956)"
      ]
     },
     "execution_count": 43,
     "metadata": {},
     "output_type": "execute_result"
    }
   ],
   "source": [
    "UK['Latitude'].mean()"
   ]
  },
  {
   "cell_type": "markdown",
   "id": "882e46d5-dfcd-45e8-bd56-55de1ba3880e",
   "metadata": {},
   "source": [
    "## ***Insights:*** On average, accidents happened around latitude 52.55, which is roughly central in the UK."
   ]
  },
  {
   "cell_type": "markdown",
   "id": "59a4b2e1-e2b2-48d0-9261-77cba4ae7078",
   "metadata": {},
   "source": [
    "# 19. What is the average longitude where accidents happened?"
   ]
  },
  {
   "cell_type": "code",
   "execution_count": 44,
   "id": "d653f476-5bce-47c3-964e-f6ebfb3f421c",
   "metadata": {},
   "outputs": [
    {
     "data": {
      "text/plain": [
       "np.float64(-1.431210368502073)"
      ]
     },
     "execution_count": 44,
     "metadata": {},
     "output_type": "execute_result"
    }
   ],
   "source": [
    "UK['Longitude'].mean()"
   ]
  },
  {
   "cell_type": "markdown",
   "id": "c490746e-b1f4-4f38-bfac-5c201e1967d4",
   "metadata": {},
   "source": [
    "## ***Insights:*** On average, accidents happened around longitude -1.43, which is slightly west of the UK center."
   ]
  },
  {
   "cell_type": "markdown",
   "id": "0be715ee-ebb6-422a-bec4-c0bedea9ac78",
   "metadata": {},
   "source": [
    "# 20. How many accidents happened south of latitude 51?"
   ]
  },
  {
   "cell_type": "code",
   "execution_count": 45,
   "id": "d53c54ec-9598-4ba6-8560-baa2a88b05ac",
   "metadata": {},
   "outputs": [
    {
     "data": {
      "text/plain": [
       "np.int64(57288)"
      ]
     },
     "execution_count": 45,
     "metadata": {},
     "output_type": "execute_result"
    }
   ],
   "source": [
    "UK[UK['Latitude'] < 51]['Index'].count()"
   ]
  },
  {
   "cell_type": "markdown",
   "id": "58dcad4a-5f65-4c51-92ea-74656528f74c",
   "metadata": {},
   "source": [
    "## ***Insights:*** There are **57,288 accidents** that happened south of latitude 51. This includes areas near the south coast of England.\n"
   ]
  },
  {
   "cell_type": "markdown",
   "id": "1b607e5c-dacd-4a4f-9cff-4e20ee188c25",
   "metadata": {},
   "source": [
    "# 21. What is the usual number of casualties in an accident?"
   ]
  },
  {
   "cell_type": "code",
   "execution_count": 46,
   "id": "f6eff84c-648f-45b7-bcaa-926277193a8f",
   "metadata": {},
   "outputs": [
    {
     "data": {
      "text/plain": [
       "np.int64(1)"
      ]
     },
     "execution_count": 46,
     "metadata": {},
     "output_type": "execute_result"
    }
   ],
   "source": [
    "UK['Number_of_Casualties'].mode()[0]"
   ]
  },
  {
   "cell_type": "markdown",
   "id": "1e8d77d4-f7e5-4171-bc8e-fa210b76a2e5",
   "metadata": {},
   "source": [
    "## ***Insights:*** Most accidents have 1 casualty, showing that usually only one person gets hurt."
   ]
  },
  {
   "cell_type": "markdown",
   "id": "6b9ce600-5dc3-488e-9609-f61fb5d49131",
   "metadata": {},
   "source": [
    "# 22. How many accidents involved only 1 casualty?"
   ]
  },
  {
   "cell_type": "code",
   "execution_count": 47,
   "id": "734fa171-8dad-4463-82e4-1a79e4bd0516",
   "metadata": {},
   "outputs": [
    {
     "data": {
      "text/plain": [
       "np.int64(504041)"
      ]
     },
     "execution_count": 47,
     "metadata": {},
     "output_type": "execute_result"
    }
   ],
   "source": [
    "UK[UK['Number_of_Casualties'] == 1]['Index'].count()"
   ]
  },
  {
   "cell_type": "markdown",
   "id": "871af43d-f85b-4841-8a97-6b7e56c16a48",
   "metadata": {},
   "source": [
    "## ***Insights:**** Most accidents (504,041) involved only 1 casualty, meaning serious multi-injury accidents are less common."
   ]
  },
  {
   "cell_type": "markdown",
   "id": "1b04ee36-8884-44b2-9d81-9bd550e72f5e",
   "metadata": {},
   "source": [
    "# 23. How many accidents involved more than 1 casualty?"
   ]
  },
  {
   "cell_type": "code",
   "execution_count": 48,
   "id": "1133aeeb-17a2-41b7-b23f-98b59ff6cf2a",
   "metadata": {},
   "outputs": [
    {
     "data": {
      "text/plain": [
       "np.int64(156638)"
      ]
     },
     "execution_count": 48,
     "metadata": {},
     "output_type": "execute_result"
    }
   ],
   "source": [
    "UK[UK['Number_of_Casualties'] > 1]['Index'].count()"
   ]
  },
  {
   "cell_type": "markdown",
   "id": "e70f9dbe-7dbb-4845-9537-97dc0929194a",
   "metadata": {},
   "source": [
    "## ***Insights:*** About 156,639 accidents involved more than 1 casualty, which are less frequent but more serious."
   ]
  },
  {
   "cell_type": "markdown",
   "id": "7dfcae79-de28-40d8-95bd-19f369984c02",
   "metadata": {},
   "source": [
    "# 24. What is the average number of vehicles involved in an accident?"
   ]
  },
  {
   "cell_type": "code",
   "execution_count": 49,
   "id": "f205857e-8f2b-4162-8579-6b85d026c988",
   "metadata": {},
   "outputs": [
    {
     "data": {
      "text/plain": [
       "np.float64(1.8312554205597575)"
      ]
     },
     "execution_count": 49,
     "metadata": {},
     "output_type": "execute_result"
    }
   ],
   "source": [
    "UK['Number_of_Vehicles'].mean()"
   ]
  },
  {
   "cell_type": "markdown",
   "id": "6f4080c7-624c-4cca-94a0-07f501e4d7c7",
   "metadata": {},
   "source": [
    "# ***Insights:*** On average, each accident involves about 1.83 vehicles, which means most accidents involve 1 or 2 vehicles."
   ]
  },
  {
   "cell_type": "markdown",
   "id": "d68e4ab5-fc59-4b40-ad43-954531bacc28",
   "metadata": {},
   "source": [
    "# 25. How many accidents involved only 1 vehicle?"
   ]
  },
  {
   "cell_type": "code",
   "execution_count": 50,
   "id": "b3c82960-7626-459a-b1ba-8ef3ae5413fe",
   "metadata": {},
   "outputs": [
    {
     "data": {
      "text/plain": [
       "np.int64(200787)"
      ]
     },
     "execution_count": 50,
     "metadata": {},
     "output_type": "execute_result"
    }
   ],
   "source": [
    "UK[UK['Number_of_Vehicles'] == 1]['Index'].count()"
   ]
  },
  {
   "cell_type": "markdown",
   "id": "2ba6be2b-ade9-4f91-a50f-1d565253209d",
   "metadata": {},
   "source": [
    "## ***Insights:*** Most accidents (200,787) involved only 1 vehicle, showing single-vehicle accidents are very common."
   ]
  },
  {
   "cell_type": "code",
   "execution_count": 104,
   "id": "70041d94-3f3c-4dac-9214-efcb0df61d19",
   "metadata": {},
   "outputs": [],
   "source": [
    "UK['Accident Date'] = pd.to_datetime(UK['Accident Date'], errors='coerce', dayfirst=True)"
   ]
  },
  {
   "cell_type": "code",
   "execution_count": 105,
   "id": "68bbaaab-b94a-463e-8738-96f5eef8b8c6",
   "metadata": {},
   "outputs": [
    {
     "data": {
      "text/plain": [
       "Index                            category\n",
       "Accident_Severity                category\n",
       "Accident Date              datetime64[ns]\n",
       "Latitude                          float64\n",
       "Light_Conditions                 category\n",
       "District Area                    category\n",
       "Longitude                         float64\n",
       "Number_of_Casualties                int64\n",
       "Number_of_Vehicles                  int64\n",
       "Road_Surface_Conditions          category\n",
       "Road_Type                        category\n",
       "Urban_or_Rural_Area              category\n",
       "Weather_Conditions               category\n",
       "Vehicle_Type                     category\n",
       "Year                              float64\n",
       "Month                             float64\n",
       "Day                               float64\n",
       "DayofWeek                         float64\n",
       "dtype: object"
      ]
     },
     "execution_count": 105,
     "metadata": {},
     "output_type": "execute_result"
    }
   ],
   "source": [
    "UK.dtypes"
   ]
  },
  {
   "cell_type": "code",
   "execution_count": null,
   "id": "281a4b2f-5786-4383-9820-cd82af9be9d1",
   "metadata": {},
   "outputs": [],
   "source": []
  },
  {
   "cell_type": "markdown",
   "id": "48edfc22-0461-4fce-b34f-c4e41f366238",
   "metadata": {},
   "source": [
    "# Analysis on accident happened in 2020"
   ]
  },
  {
   "cell_type": "code",
   "execution_count": 107,
   "id": "0c677e11-3721-47a3-a617-34fc61946484",
   "metadata": {},
   "outputs": [],
   "source": [
    "df_2020 = UK[UK['Year'] == 2020]"
   ]
  },
  {
   "cell_type": "code",
   "execution_count": 108,
   "id": "14fa2a46-cc3f-4c4c-83b5-e8189e238932",
   "metadata": {},
   "outputs": [
    {
     "data": {
      "text/html": [
       "<div>\n",
       "<style scoped>\n",
       "    .dataframe tbody tr th:only-of-type {\n",
       "        vertical-align: middle;\n",
       "    }\n",
       "\n",
       "    .dataframe tbody tr th {\n",
       "        vertical-align: top;\n",
       "    }\n",
       "\n",
       "    .dataframe thead th {\n",
       "        text-align: right;\n",
       "    }\n",
       "</style>\n",
       "<table border=\"1\" class=\"dataframe\">\n",
       "  <thead>\n",
       "    <tr style=\"text-align: right;\">\n",
       "      <th></th>\n",
       "      <th>Index</th>\n",
       "      <th>Accident_Severity</th>\n",
       "      <th>Accident Date</th>\n",
       "      <th>Latitude</th>\n",
       "      <th>Light_Conditions</th>\n",
       "      <th>District Area</th>\n",
       "      <th>Longitude</th>\n",
       "      <th>Number_of_Casualties</th>\n",
       "      <th>Number_of_Vehicles</th>\n",
       "      <th>Road_Surface_Conditions</th>\n",
       "      <th>Road_Type</th>\n",
       "      <th>Urban_or_Rural_Area</th>\n",
       "      <th>Weather_Conditions</th>\n",
       "      <th>Vehicle_Type</th>\n",
       "      <th>Year</th>\n",
       "      <th>Month</th>\n",
       "      <th>Day</th>\n",
       "      <th>DayofWeek</th>\n",
       "    </tr>\n",
       "  </thead>\n",
       "  <tbody>\n",
       "    <tr>\n",
       "      <th>182120</th>\n",
       "      <td>200801BS70001</td>\n",
       "      <td>Serious</td>\n",
       "      <td>2020-01-02</td>\n",
       "      <td>51.491521</td>\n",
       "      <td>Darkness - lights lit</td>\n",
       "      <td>Kensington and Chelsea</td>\n",
       "      <td>-0.179406</td>\n",
       "      <td>1</td>\n",
       "      <td>2</td>\n",
       "      <td>Dry</td>\n",
       "      <td>Single carriageway</td>\n",
       "      <td>Urban</td>\n",
       "      <td>Fine no high winds</td>\n",
       "      <td>Car</td>\n",
       "      <td>2020</td>\n",
       "      <td>1.0</td>\n",
       "      <td>2.0</td>\n",
       "      <td>3.0</td>\n",
       "    </tr>\n",
       "    <tr>\n",
       "      <th>182121</th>\n",
       "      <td>200801BS70002</td>\n",
       "      <td>Slight</td>\n",
       "      <td>2020-01-06</td>\n",
       "      <td>51.484909</td>\n",
       "      <td>Darkness - lights lit</td>\n",
       "      <td>Kensington and Chelsea</td>\n",
       "      <td>-0.176356</td>\n",
       "      <td>1</td>\n",
       "      <td>2</td>\n",
       "      <td>Wet or damp</td>\n",
       "      <td>Single carriageway</td>\n",
       "      <td>Urban</td>\n",
       "      <td>Fine no high winds</td>\n",
       "      <td>Motorcycle over 500cc</td>\n",
       "      <td>2020</td>\n",
       "      <td>1.0</td>\n",
       "      <td>6.0</td>\n",
       "      <td>0.0</td>\n",
       "    </tr>\n",
       "    <tr>\n",
       "      <th>182122</th>\n",
       "      <td>200801BS70003</td>\n",
       "      <td>Serious</td>\n",
       "      <td>2020-01-12</td>\n",
       "      <td>51.509965</td>\n",
       "      <td>Daylight</td>\n",
       "      <td>Kensington and Chelsea</td>\n",
       "      <td>-0.197405</td>\n",
       "      <td>1</td>\n",
       "      <td>1</td>\n",
       "      <td>Dry</td>\n",
       "      <td>Single carriageway</td>\n",
       "      <td>Urban</td>\n",
       "      <td>Fine no high winds</td>\n",
       "      <td>Car</td>\n",
       "      <td>2020</td>\n",
       "      <td>1.0</td>\n",
       "      <td>12.0</td>\n",
       "      <td>6.0</td>\n",
       "    </tr>\n",
       "    <tr>\n",
       "      <th>182123</th>\n",
       "      <td>200801BS70004</td>\n",
       "      <td>Slight</td>\n",
       "      <td>2020-01-05</td>\n",
       "      <td>51.490631</td>\n",
       "      <td>Darkness - lights lit</td>\n",
       "      <td>Kensington and Chelsea</td>\n",
       "      <td>-0.185779</td>\n",
       "      <td>1</td>\n",
       "      <td>2</td>\n",
       "      <td>Dry</td>\n",
       "      <td>Single carriageway</td>\n",
       "      <td>Urban</td>\n",
       "      <td>Fine no high winds</td>\n",
       "      <td>Car</td>\n",
       "      <td>2020</td>\n",
       "      <td>1.0</td>\n",
       "      <td>5.0</td>\n",
       "      <td>6.0</td>\n",
       "    </tr>\n",
       "    <tr>\n",
       "      <th>182124</th>\n",
       "      <td>200801BS70005</td>\n",
       "      <td>Slight</td>\n",
       "      <td>2020-01-03</td>\n",
       "      <td>51.509712</td>\n",
       "      <td>Darkness - lights lit</td>\n",
       "      <td>Kensington and Chelsea</td>\n",
       "      <td>-0.192659</td>\n",
       "      <td>3</td>\n",
       "      <td>1</td>\n",
       "      <td>Dry</td>\n",
       "      <td>Single carriageway</td>\n",
       "      <td>Urban</td>\n",
       "      <td>Fine no high winds</td>\n",
       "      <td>Car</td>\n",
       "      <td>2020</td>\n",
       "      <td>1.0</td>\n",
       "      <td>3.0</td>\n",
       "      <td>4.0</td>\n",
       "    </tr>\n",
       "    <tr>\n",
       "      <th>...</th>\n",
       "      <td>...</td>\n",
       "      <td>...</td>\n",
       "      <td>...</td>\n",
       "      <td>...</td>\n",
       "      <td>...</td>\n",
       "      <td>...</td>\n",
       "      <td>...</td>\n",
       "      <td>...</td>\n",
       "      <td>...</td>\n",
       "      <td>...</td>\n",
       "      <td>...</td>\n",
       "      <td>...</td>\n",
       "      <td>...</td>\n",
       "      <td>...</td>\n",
       "      <td>...</td>\n",
       "      <td>...</td>\n",
       "      <td>...</td>\n",
       "      <td>...</td>\n",
       "    </tr>\n",
       "    <tr>\n",
       "      <th>352694</th>\n",
       "      <td>2.01E+12</td>\n",
       "      <td>Slight</td>\n",
       "      <td>2020-11-01</td>\n",
       "      <td>55.267100</td>\n",
       "      <td>Darkness - no lighting</td>\n",
       "      <td>Dumfries and Galloway</td>\n",
       "      <td>-2.959324</td>\n",
       "      <td>1</td>\n",
       "      <td>1</td>\n",
       "      <td>Frost or ice</td>\n",
       "      <td>Single carriageway</td>\n",
       "      <td>Rural</td>\n",
       "      <td>Fine no high winds</td>\n",
       "      <td>Car</td>\n",
       "      <td>2020</td>\n",
       "      <td>11.0</td>\n",
       "      <td>1.0</td>\n",
       "      <td>6.0</td>\n",
       "    </tr>\n",
       "    <tr>\n",
       "      <th>352695</th>\n",
       "      <td>2.01E+12</td>\n",
       "      <td>Slight</td>\n",
       "      <td>2020-11-02</td>\n",
       "      <td>54.985218</td>\n",
       "      <td>Daylight</td>\n",
       "      <td>Dumfries and Galloway</td>\n",
       "      <td>-3.278743</td>\n",
       "      <td>1</td>\n",
       "      <td>1</td>\n",
       "      <td>Wet or damp</td>\n",
       "      <td>Single carriageway</td>\n",
       "      <td>Rural</td>\n",
       "      <td>Fine no high winds</td>\n",
       "      <td>Motorcycle 125cc and under</td>\n",
       "      <td>2020</td>\n",
       "      <td>11.0</td>\n",
       "      <td>2.0</td>\n",
       "      <td>0.0</td>\n",
       "    </tr>\n",
       "    <tr>\n",
       "      <th>352696</th>\n",
       "      <td>2.01E+12</td>\n",
       "      <td>Slight</td>\n",
       "      <td>2020-11-06</td>\n",
       "      <td>55.126057</td>\n",
       "      <td>Darkness - no lighting</td>\n",
       "      <td>Dumfries and Galloway</td>\n",
       "      <td>-3.344404</td>\n",
       "      <td>1</td>\n",
       "      <td>1</td>\n",
       "      <td>Wet or damp</td>\n",
       "      <td>Single carriageway</td>\n",
       "      <td>Rural</td>\n",
       "      <td>Fine no high winds</td>\n",
       "      <td>Car</td>\n",
       "      <td>2020</td>\n",
       "      <td>11.0</td>\n",
       "      <td>6.0</td>\n",
       "      <td>4.0</td>\n",
       "    </tr>\n",
       "    <tr>\n",
       "      <th>352697</th>\n",
       "      <td>2.01E+12</td>\n",
       "      <td>Serious</td>\n",
       "      <td>2020-11-04</td>\n",
       "      <td>55.243971</td>\n",
       "      <td>Darkness - no lighting</td>\n",
       "      <td>Dumfries and Galloway</td>\n",
       "      <td>-3.461163</td>\n",
       "      <td>2</td>\n",
       "      <td>2</td>\n",
       "      <td>Dry</td>\n",
       "      <td>Single carriageway</td>\n",
       "      <td>Rural</td>\n",
       "      <td>Fine no high winds</td>\n",
       "      <td>Car</td>\n",
       "      <td>2020</td>\n",
       "      <td>11.0</td>\n",
       "      <td>4.0</td>\n",
       "      <td>2.0</td>\n",
       "    </tr>\n",
       "    <tr>\n",
       "      <th>352702</th>\n",
       "      <td>2.01E+12</td>\n",
       "      <td>Slight</td>\n",
       "      <td>2020-12-06</td>\n",
       "      <td>54.983911</td>\n",
       "      <td>Daylight</td>\n",
       "      <td>Dumfries and Galloway</td>\n",
       "      <td>-3.195094</td>\n",
       "      <td>1</td>\n",
       "      <td>1</td>\n",
       "      <td>Frost or ice</td>\n",
       "      <td>Single carriageway</td>\n",
       "      <td>Rural</td>\n",
       "      <td>Fine no high winds</td>\n",
       "      <td>Motorcycle 125cc and under</td>\n",
       "      <td>2020</td>\n",
       "      <td>12.0</td>\n",
       "      <td>6.0</td>\n",
       "      <td>6.0</td>\n",
       "    </tr>\n",
       "  </tbody>\n",
       "</table>\n",
       "<p>70163 rows × 18 columns</p>\n",
       "</div>"
      ],
      "text/plain": [
       "                Index Accident_Severity Accident Date   Latitude  \\\n",
       "182120  200801BS70001           Serious    2020-01-02  51.491521   \n",
       "182121  200801BS70002            Slight    2020-01-06  51.484909   \n",
       "182122  200801BS70003           Serious    2020-01-12  51.509965   \n",
       "182123  200801BS70004            Slight    2020-01-05  51.490631   \n",
       "182124  200801BS70005            Slight    2020-01-03  51.509712   \n",
       "...               ...               ...           ...        ...   \n",
       "352694       2.01E+12            Slight    2020-11-01  55.267100   \n",
       "352695       2.01E+12            Slight    2020-11-02  54.985218   \n",
       "352696       2.01E+12            Slight    2020-11-06  55.126057   \n",
       "352697       2.01E+12           Serious    2020-11-04  55.243971   \n",
       "352702       2.01E+12            Slight    2020-12-06  54.983911   \n",
       "\n",
       "              Light_Conditions           District Area  Longitude  \\\n",
       "182120   Darkness - lights lit  Kensington and Chelsea  -0.179406   \n",
       "182121   Darkness - lights lit  Kensington and Chelsea  -0.176356   \n",
       "182122                Daylight  Kensington and Chelsea  -0.197405   \n",
       "182123   Darkness - lights lit  Kensington and Chelsea  -0.185779   \n",
       "182124   Darkness - lights lit  Kensington and Chelsea  -0.192659   \n",
       "...                        ...                     ...        ...   \n",
       "352694  Darkness - no lighting   Dumfries and Galloway  -2.959324   \n",
       "352695                Daylight   Dumfries and Galloway  -3.278743   \n",
       "352696  Darkness - no lighting   Dumfries and Galloway  -3.344404   \n",
       "352697  Darkness - no lighting   Dumfries and Galloway  -3.461163   \n",
       "352702                Daylight   Dumfries and Galloway  -3.195094   \n",
       "\n",
       "        Number_of_Casualties  Number_of_Vehicles Road_Surface_Conditions  \\\n",
       "182120                     1                   2                     Dry   \n",
       "182121                     1                   2             Wet or damp   \n",
       "182122                     1                   1                     Dry   \n",
       "182123                     1                   2                     Dry   \n",
       "182124                     3                   1                     Dry   \n",
       "...                      ...                 ...                     ...   \n",
       "352694                     1                   1            Frost or ice   \n",
       "352695                     1                   1             Wet or damp   \n",
       "352696                     1                   1             Wet or damp   \n",
       "352697                     2                   2                     Dry   \n",
       "352702                     1                   1            Frost or ice   \n",
       "\n",
       "                 Road_Type Urban_or_Rural_Area  Weather_Conditions  \\\n",
       "182120  Single carriageway               Urban  Fine no high winds   \n",
       "182121  Single carriageway               Urban  Fine no high winds   \n",
       "182122  Single carriageway               Urban  Fine no high winds   \n",
       "182123  Single carriageway               Urban  Fine no high winds   \n",
       "182124  Single carriageway               Urban  Fine no high winds   \n",
       "...                    ...                 ...                 ...   \n",
       "352694  Single carriageway               Rural  Fine no high winds   \n",
       "352695  Single carriageway               Rural  Fine no high winds   \n",
       "352696  Single carriageway               Rural  Fine no high winds   \n",
       "352697  Single carriageway               Rural  Fine no high winds   \n",
       "352702  Single carriageway               Rural  Fine no high winds   \n",
       "\n",
       "                      Vehicle_Type  Year  Month   Day  DayofWeek  \n",
       "182120                         Car  2020    1.0   2.0        3.0  \n",
       "182121       Motorcycle over 500cc  2020    1.0   6.0        0.0  \n",
       "182122                         Car  2020    1.0  12.0        6.0  \n",
       "182123                         Car  2020    1.0   5.0        6.0  \n",
       "182124                         Car  2020    1.0   3.0        4.0  \n",
       "...                            ...   ...    ...   ...        ...  \n",
       "352694                         Car  2020   11.0   1.0        6.0  \n",
       "352695  Motorcycle 125cc and under  2020   11.0   2.0        0.0  \n",
       "352696                         Car  2020   11.0   6.0        4.0  \n",
       "352697                         Car  2020   11.0   4.0        2.0  \n",
       "352702  Motorcycle 125cc and under  2020   12.0   6.0        6.0  \n",
       "\n",
       "[70163 rows x 18 columns]"
      ]
     },
     "execution_count": 108,
     "metadata": {},
     "output_type": "execute_result"
    }
   ],
   "source": [
    "df_2020"
   ]
  },
  {
   "cell_type": "code",
   "execution_count": 109,
   "id": "91b47edf-1b63-4463-ae5e-9f2a4af1ca10",
   "metadata": {},
   "outputs": [
    {
     "name": "stdout",
     "output_type": "stream",
     "text": [
      "total number of accident in 2020 is 70163\n"
     ]
    },
    {
     "data": {
      "text/plain": [
       "Weather_Conditions\n",
       "Fine no high winds       54448\n",
       "Raining no high winds    10126\n",
       "Other                     2052\n",
       "Raining + high winds      1411\n",
       "Fine + high winds         1237\n",
       "Snowing no high winds      460\n",
       "Fog or mist                327\n",
       "Snowing + high winds       102\n",
       "Name: count, dtype: int64"
      ]
     },
     "execution_count": 109,
     "metadata": {},
     "output_type": "execute_result"
    }
   ],
   "source": [
    "print(f\"total number of accident in 2020 is {df_2020['Weather_Conditions'].value_counts().sum()}\")\n",
    "df_2020['Weather_Conditions'].value_counts()"
   ]
  },
  {
   "cell_type": "markdown",
   "id": "465054af-11f3-446b-bfa2-f75fd4370cd9",
   "metadata": {},
   "source": [
    "# 26. In what type of weather do most accidents actually occur, and what might this reveal about driver behavior?\n",
    "\n",
    "## ***Insight:*** Nearly three-quarters of all accidents ***(around 74%)*** occurred in clear weather without high winds. This suggests that dangerous weather isn’t the main driver of accidents — rather, everyday conditions with good visibility are where drivers might be overconfident or less cautious."
   ]
  },
  {
   "cell_type": "markdown",
   "id": "6c5347dd-1713-4f34-a148-a7a41980b90e",
   "metadata": {},
   "source": [
    "# 27. What proportion of accidents happened during rainfall, and what might this suggest about driving in wet conditions?\n",
    "## ***Insight:*** About 16% of accidents (10,126 cases) occurred in rain without high winds, showing that wet roads do pose risks — but the majority of accidents still happen in dry conditions, suggesting that rainfall is not the dominant factor in overall accident frequency.\n"
   ]
  },
  {
   "cell_type": "markdown",
   "id": "37d62c2d-2112-41f9-b96c-9c73d5b97f0c",
   "metadata": {},
   "source": [
    "# 28. How do accidents in windy weather compare to calm conditions?\n",
    "## ***Insight:*** Only about 3.8% of accidents (2,648 cases) occurred during windy conditions (both fine and raining), compared to over 90% in calm weather. This indicates that while wind can be dangerous, it contributes very little to the total number of accidents, possibly because fewer people travel in such conditions."
   ]
  },
  {
   "cell_type": "markdown",
   "id": "cfce79c5-5e69-4af5-b715-ac60c83e9b1a",
   "metadata": {},
   "source": [
    "# 29. What does the data reveal about accidents in snowy weather?\n",
    "# ***Insight:*** Less than 1% of accidents (562 cases) happened during snowy conditions (with or without wind). This suggests that snow poses a high individual risk but contributes little overall, likely because drivers either avoid traveling or drive more cautiously in snow."
   ]
  },
  {
   "cell_type": "markdown",
   "id": "eb849b30-3c6a-41fa-96cd-fcb306815f04",
   "metadata": {},
   "source": [
    "# 30. How frequent are fog-related accidents, and what might that imply?\n",
    "## ***Insight:*** Only 327 accidents (0.5%) occurred in fog or mist, highlighting that while fog severely reduces visibility, its real-world impact on accident totals is small, possibly due to reduced traffic during foggy conditions."
   ]
  },
  {
   "cell_type": "markdown",
   "id": "5dea0c82-2b59-4e8e-b376-926df0750a7c",
   "metadata": {},
   "source": [
    "# Data cleaning"
   ]
  },
  {
   "cell_type": "code",
   "execution_count": 110,
   "id": "00d4affb-18cc-4487-a405-a5fde0f03e1e",
   "metadata": {},
   "outputs": [
    {
     "data": {
      "text/plain": [
       "Index                      0\n",
       "Accident_Severity          0\n",
       "Accident Date              0\n",
       "Latitude                   0\n",
       "Light_Conditions           0\n",
       "District Area              0\n",
       "Longitude                  0\n",
       "Number_of_Casualties       0\n",
       "Number_of_Vehicles         0\n",
       "Road_Surface_Conditions    0\n",
       "Road_Type                  0\n",
       "Urban_or_Rural_Area        0\n",
       "Weather_Conditions         0\n",
       "Vehicle_Type               0\n",
       "Year                       0\n",
       "Month                      0\n",
       "Day                        0\n",
       "DayofWeek                  0\n",
       "dtype: int64"
      ]
     },
     "execution_count": 110,
     "metadata": {},
     "output_type": "execute_result"
    }
   ],
   "source": [
    "UK.isnull().sum()"
   ]
  },
  {
   "cell_type": "code",
   "execution_count": 100,
   "id": "fcb580da-0ddd-41e1-bb65-6581ba722970",
   "metadata": {},
   "outputs": [],
   "source": [
    "# Replace NaN with 0 only in the selected columns\n",
    "UK[['Accident Date', 'Year', 'Month', 'Day', 'DayofWeek']] = UK[['Accident Date', 'Year', 'Month', 'Day', 'DayofWeek']].fillna(0)"
   ]
  },
  {
   "cell_type": "code",
   "execution_count": 101,
   "id": "7aef3921-ff4d-4af3-99c9-ebafe69440b0",
   "metadata": {},
   "outputs": [
    {
     "data": {
      "text/plain": [
       "Index                      0\n",
       "Accident_Severity          0\n",
       "Accident Date              0\n",
       "Latitude                   0\n",
       "Light_Conditions           0\n",
       "District Area              0\n",
       "Longitude                  0\n",
       "Number_of_Casualties       0\n",
       "Number_of_Vehicles         0\n",
       "Road_Surface_Conditions    0\n",
       "Road_Type                  0\n",
       "Urban_or_Rural_Area        0\n",
       "Weather_Conditions         0\n",
       "Vehicle_Type               0\n",
       "Year                       0\n",
       "Month                      0\n",
       "Day                        0\n",
       "DayofWeek                  0\n",
       "dtype: int64"
      ]
     },
     "execution_count": 101,
     "metadata": {},
     "output_type": "execute_result"
    }
   ],
   "source": [
    "UK.isnull().sum()"
   ]
  },
  {
   "cell_type": "markdown",
   "id": "05c1b327-2b54-4157-825d-c241b87c792e",
   "metadata": {},
   "source": [
    "# Extracting date information using pandas"
   ]
  },
  {
   "cell_type": "code",
   "execution_count": 111,
   "id": "5751e692-3306-49ba-a379-c83511d837b6",
   "metadata": {},
   "outputs": [],
   "source": [
    "UK['Year'] = UK['Accident Date'].dt.year\n",
    "UK['Month'] = UK['Accident Date'].dt.month\n",
    "UK['Day'] = UK['Accident Date'].dt.day\n",
    "UK['DayofWeek'] = UK['Accident Date'].dt.dayofweek"
   ]
  },
  {
   "cell_type": "code",
   "execution_count": 112,
   "id": "e3ed9256-95a7-4475-9e5c-d795bd1d8ac1",
   "metadata": {},
   "outputs": [
    {
     "data": {
      "text/plain": [
       "Index                      0\n",
       "Accident_Severity          0\n",
       "Accident Date              0\n",
       "Latitude                   0\n",
       "Light_Conditions           0\n",
       "District Area              0\n",
       "Longitude                  0\n",
       "Number_of_Casualties       0\n",
       "Number_of_Vehicles         0\n",
       "Road_Surface_Conditions    0\n",
       "Road_Type                  0\n",
       "Urban_or_Rural_Area        0\n",
       "Weather_Conditions         0\n",
       "Vehicle_Type               0\n",
       "Year                       0\n",
       "Month                      0\n",
       "Day                        0\n",
       "DayofWeek                  0\n",
       "dtype: int64"
      ]
     },
     "execution_count": 112,
     "metadata": {},
     "output_type": "execute_result"
    }
   ],
   "source": [
    "UK.isnull().sum()"
   ]
  },
  {
   "cell_type": "code",
   "execution_count": null,
   "id": "2edc7c00-25a7-4d83-a96c-dbfd5960229b",
   "metadata": {},
   "outputs": [],
   "source": []
  },
  {
   "cell_type": "code",
   "execution_count": 72,
   "id": "4bc49674-92f4-40c1-9be6-90a6c32065e6",
   "metadata": {},
   "outputs": [],
   "source": [
    "df_exam1 = UK.groupby(['Vehicle_Type','Accident_Severity','District Area','Urban_or_Rural_Area'])"
   ]
  },
  {
   "cell_type": "code",
   "execution_count": 73,
   "id": "f0777eea-c908-4be0-ba8a-654e02623e59",
   "metadata": {},
   "outputs": [],
   "source": [
    "df_exam3 = UK.copy()"
   ]
  },
  {
   "cell_type": "code",
   "execution_count": 81,
   "id": "b331f66d-2af1-4ac9-902e-a899e11f9959",
   "metadata": {},
   "outputs": [],
   "source": [
    "df_exam1 = df_exam3.groupby(['Vehicle_Type','Accident_Severity','Urban_or_Rural_Area'])['Number_of_Vehicles'].size()"
   ]
  },
  {
   "cell_type": "code",
   "execution_count": 82,
   "id": "87fe0496-77f5-4480-a7e3-45d3969839a6",
   "metadata": {},
   "outputs": [
    {
     "data": {
      "text/html": [
       "<div>\n",
       "<style scoped>\n",
       "    .dataframe tbody tr th:only-of-type {\n",
       "        vertical-align: middle;\n",
       "    }\n",
       "\n",
       "    .dataframe tbody tr th {\n",
       "        vertical-align: top;\n",
       "    }\n",
       "\n",
       "    .dataframe thead th {\n",
       "        text-align: right;\n",
       "    }\n",
       "</style>\n",
       "<table border=\"1\" class=\"dataframe\">\n",
       "  <thead>\n",
       "    <tr style=\"text-align: right;\">\n",
       "      <th></th>\n",
       "      <th>Urban_or_Rural_Area</th>\n",
       "      <th>Rural</th>\n",
       "      <th>Unallocated</th>\n",
       "      <th>Urban</th>\n",
       "    </tr>\n",
       "    <tr>\n",
       "      <th>Vehicle_Type</th>\n",
       "      <th>Accident_Severity</th>\n",
       "      <th></th>\n",
       "      <th></th>\n",
       "      <th></th>\n",
       "    </tr>\n",
       "  </thead>\n",
       "  <tbody>\n",
       "    <tr>\n",
       "      <th rowspan=\"3\" valign=\"top\">Agricultural vehicle</th>\n",
       "      <th>Fatal</th>\n",
       "      <td>14</td>\n",
       "      <td>0</td>\n",
       "      <td>7</td>\n",
       "    </tr>\n",
       "    <tr>\n",
       "      <th>Serious</th>\n",
       "      <td>121</td>\n",
       "      <td>0</td>\n",
       "      <td>161</td>\n",
       "    </tr>\n",
       "    <tr>\n",
       "      <th>Slight</th>\n",
       "      <td>540</td>\n",
       "      <td>0</td>\n",
       "      <td>1104</td>\n",
       "    </tr>\n",
       "    <tr>\n",
       "      <th rowspan=\"3\" valign=\"top\">Bus or coach (17 or more pass seats)</th>\n",
       "      <th>Fatal</th>\n",
       "      <td>213</td>\n",
       "      <td>0</td>\n",
       "      <td>112</td>\n",
       "    </tr>\n",
       "    <tr>\n",
       "      <th>Serious</th>\n",
       "      <td>1372</td>\n",
       "      <td>0</td>\n",
       "      <td>2001</td>\n",
       "    </tr>\n",
       "    <tr>\n",
       "      <th>Slight</th>\n",
       "      <td>7440</td>\n",
       "      <td>2</td>\n",
       "      <td>14738</td>\n",
       "    </tr>\n",
       "    <tr>\n",
       "      <th rowspan=\"3\" valign=\"top\">Car</th>\n",
       "      <th>Fatal</th>\n",
       "      <td>4285</td>\n",
       "      <td>0</td>\n",
       "      <td>2292</td>\n",
       "    </tr>\n",
       "    <tr>\n",
       "      <th>Serious</th>\n",
       "      <td>28494</td>\n",
       "      <td>0</td>\n",
       "      <td>37967</td>\n",
       "    </tr>\n",
       "    <tr>\n",
       "      <th>Slight</th>\n",
       "      <td>149143</td>\n",
       "      <td>8</td>\n",
       "      <td>275803</td>\n",
       "    </tr>\n",
       "    <tr>\n",
       "      <th rowspan=\"3\" valign=\"top\">Data missing or out of range</th>\n",
       "      <th>Fatal</th>\n",
       "      <td>0</td>\n",
       "      <td>0</td>\n",
       "      <td>0</td>\n",
       "    </tr>\n",
       "    <tr>\n",
       "      <th>Serious</th>\n",
       "      <td>0</td>\n",
       "      <td>0</td>\n",
       "      <td>0</td>\n",
       "    </tr>\n",
       "    <tr>\n",
       "      <th>Slight</th>\n",
       "      <td>0</td>\n",
       "      <td>0</td>\n",
       "      <td>6</td>\n",
       "    </tr>\n",
       "    <tr>\n",
       "      <th rowspan=\"3\" valign=\"top\">Goods 7.5 tonnes mgw and over</th>\n",
       "      <th>Fatal</th>\n",
       "      <td>139</td>\n",
       "      <td>0</td>\n",
       "      <td>77</td>\n",
       "    </tr>\n",
       "    <tr>\n",
       "      <th>Serious</th>\n",
       "      <td>949</td>\n",
       "      <td>0</td>\n",
       "      <td>1372</td>\n",
       "    </tr>\n",
       "    <tr>\n",
       "      <th>Slight</th>\n",
       "      <td>5068</td>\n",
       "      <td>0</td>\n",
       "      <td>9702</td>\n",
       "    </tr>\n",
       "    <tr>\n",
       "      <th rowspan=\"3\" valign=\"top\">Goods over 3.5t. and under 7.5t</th>\n",
       "      <th>Fatal</th>\n",
       "      <td>41</td>\n",
       "      <td>0</td>\n",
       "      <td>26</td>\n",
       "    </tr>\n",
       "    <tr>\n",
       "      <th>Serious</th>\n",
       "      <td>361</td>\n",
       "      <td>0</td>\n",
       "      <td>496</td>\n",
       "    </tr>\n",
       "    <tr>\n",
       "      <th>Slight</th>\n",
       "      <td>1830</td>\n",
       "      <td>0</td>\n",
       "      <td>3342</td>\n",
       "    </tr>\n",
       "    <tr>\n",
       "      <th rowspan=\"3\" valign=\"top\">Minibus (8 - 16 passenger seats)</th>\n",
       "      <th>Fatal</th>\n",
       "      <td>17</td>\n",
       "      <td>0</td>\n",
       "      <td>12</td>\n",
       "    </tr>\n",
       "    <tr>\n",
       "      <th>Serious</th>\n",
       "      <td>116</td>\n",
       "      <td>0</td>\n",
       "      <td>160</td>\n",
       "    </tr>\n",
       "    <tr>\n",
       "      <th>Slight</th>\n",
       "      <td>585</td>\n",
       "      <td>0</td>\n",
       "      <td>1086</td>\n",
       "    </tr>\n",
       "    <tr>\n",
       "      <th rowspan=\"3\" valign=\"top\">Motorcycle 125cc and under</th>\n",
       "      <th>Fatal</th>\n",
       "      <td>101</td>\n",
       "      <td>0</td>\n",
       "      <td>88</td>\n",
       "    </tr>\n",
       "    <tr>\n",
       "      <th>Serious</th>\n",
       "      <td>817</td>\n",
       "      <td>0</td>\n",
       "      <td>1214</td>\n",
       "    </tr>\n",
       "    <tr>\n",
       "      <th>Slight</th>\n",
       "      <td>4105</td>\n",
       "      <td>0</td>\n",
       "      <td>8944</td>\n",
       "    </tr>\n",
       "    <tr>\n",
       "      <th rowspan=\"3\" valign=\"top\">Motorcycle 50cc and under</th>\n",
       "      <th>Fatal</th>\n",
       "      <td>52</td>\n",
       "      <td>0</td>\n",
       "      <td>43</td>\n",
       "    </tr>\n",
       "    <tr>\n",
       "      <th>Serious</th>\n",
       "      <td>431</td>\n",
       "      <td>0</td>\n",
       "      <td>583</td>\n",
       "    </tr>\n",
       "    <tr>\n",
       "      <th>Slight</th>\n",
       "      <td>2227</td>\n",
       "      <td>0</td>\n",
       "      <td>4267</td>\n",
       "    </tr>\n",
       "    <tr>\n",
       "      <th rowspan=\"3\" valign=\"top\">Motorcycle over 125cc and up to 500cc</th>\n",
       "      <th>Fatal</th>\n",
       "      <td>64</td>\n",
       "      <td>0</td>\n",
       "      <td>41</td>\n",
       "    </tr>\n",
       "    <tr>\n",
       "      <th>Serious</th>\n",
       "      <td>399</td>\n",
       "      <td>0</td>\n",
       "      <td>615</td>\n",
       "    </tr>\n",
       "    <tr>\n",
       "      <th>Slight</th>\n",
       "      <td>2211</td>\n",
       "      <td>0</td>\n",
       "      <td>4326</td>\n",
       "    </tr>\n",
       "    <tr>\n",
       "      <th rowspan=\"3\" valign=\"top\">Motorcycle over 500cc</th>\n",
       "      <th>Fatal</th>\n",
       "      <td>222</td>\n",
       "      <td>0</td>\n",
       "      <td>117</td>\n",
       "    </tr>\n",
       "    <tr>\n",
       "      <th>Serious</th>\n",
       "      <td>1355</td>\n",
       "      <td>0</td>\n",
       "      <td>2102</td>\n",
       "    </tr>\n",
       "    <tr>\n",
       "      <th>Slight</th>\n",
       "      <td>7380</td>\n",
       "      <td>0</td>\n",
       "      <td>14481</td>\n",
       "    </tr>\n",
       "    <tr>\n",
       "      <th rowspan=\"3\" valign=\"top\">Other vehicle</th>\n",
       "      <th>Fatal</th>\n",
       "      <td>44</td>\n",
       "      <td>0</td>\n",
       "      <td>26</td>\n",
       "    </tr>\n",
       "    <tr>\n",
       "      <th>Serious</th>\n",
       "      <td>321</td>\n",
       "      <td>0</td>\n",
       "      <td>446</td>\n",
       "    </tr>\n",
       "    <tr>\n",
       "      <th>Slight</th>\n",
       "      <td>1629</td>\n",
       "      <td>0</td>\n",
       "      <td>3171</td>\n",
       "    </tr>\n",
       "    <tr>\n",
       "      <th rowspan=\"3\" valign=\"top\">Pedal cycle</th>\n",
       "      <th>Fatal</th>\n",
       "      <td>4</td>\n",
       "      <td>0</td>\n",
       "      <td>2</td>\n",
       "    </tr>\n",
       "    <tr>\n",
       "      <th>Serious</th>\n",
       "      <td>13</td>\n",
       "      <td>0</td>\n",
       "      <td>26</td>\n",
       "    </tr>\n",
       "    <tr>\n",
       "      <th>Slight</th>\n",
       "      <td>53</td>\n",
       "      <td>0</td>\n",
       "      <td>99</td>\n",
       "    </tr>\n",
       "    <tr>\n",
       "      <th rowspan=\"3\" valign=\"top\">Ridden horse</th>\n",
       "      <th>Fatal</th>\n",
       "      <td>0</td>\n",
       "      <td>0</td>\n",
       "      <td>0</td>\n",
       "    </tr>\n",
       "    <tr>\n",
       "      <th>Serious</th>\n",
       "      <td>0</td>\n",
       "      <td>0</td>\n",
       "      <td>0</td>\n",
       "    </tr>\n",
       "    <tr>\n",
       "      <th>Slight</th>\n",
       "      <td>1</td>\n",
       "      <td>0</td>\n",
       "      <td>3</td>\n",
       "    </tr>\n",
       "    <tr>\n",
       "      <th rowspan=\"3\" valign=\"top\">Taxi/Private hire car</th>\n",
       "      <th>Fatal</th>\n",
       "      <td>99</td>\n",
       "      <td>0</td>\n",
       "      <td>56</td>\n",
       "    </tr>\n",
       "    <tr>\n",
       "      <th>Serious</th>\n",
       "      <td>717</td>\n",
       "      <td>0</td>\n",
       "      <td>1054</td>\n",
       "    </tr>\n",
       "    <tr>\n",
       "      <th>Slight</th>\n",
       "      <td>3861</td>\n",
       "      <td>0</td>\n",
       "      <td>7507</td>\n",
       "    </tr>\n",
       "    <tr>\n",
       "      <th rowspan=\"3\" valign=\"top\">Van / Goods 3.5 tonnes mgw or under</th>\n",
       "      <th>Fatal</th>\n",
       "      <td>306</td>\n",
       "      <td>0</td>\n",
       "      <td>161</td>\n",
       "    </tr>\n",
       "    <tr>\n",
       "      <th>Serious</th>\n",
       "      <td>1846</td>\n",
       "      <td>1</td>\n",
       "      <td>2707</td>\n",
       "    </tr>\n",
       "    <tr>\n",
       "      <th>Slight</th>\n",
       "      <td>10004</td>\n",
       "      <td>0</td>\n",
       "      <td>19135</td>\n",
       "    </tr>\n",
       "  </tbody>\n",
       "</table>\n",
       "</div>"
      ],
      "text/plain": [
       "Urban_or_Rural_Area                                       Rural  Unallocated  \\\n",
       "Vehicle_Type                          Accident_Severity                        \n",
       "Agricultural vehicle                  Fatal                  14            0   \n",
       "                                      Serious               121            0   \n",
       "                                      Slight                540            0   \n",
       "Bus or coach (17 or more pass seats)  Fatal                 213            0   \n",
       "                                      Serious              1372            0   \n",
       "                                      Slight               7440            2   \n",
       "Car                                   Fatal                4285            0   \n",
       "                                      Serious             28494            0   \n",
       "                                      Slight             149143            8   \n",
       "Data missing or out of range          Fatal                   0            0   \n",
       "                                      Serious                 0            0   \n",
       "                                      Slight                  0            0   \n",
       "Goods 7.5 tonnes mgw and over         Fatal                 139            0   \n",
       "                                      Serious               949            0   \n",
       "                                      Slight               5068            0   \n",
       "Goods over 3.5t. and under 7.5t       Fatal                  41            0   \n",
       "                                      Serious               361            0   \n",
       "                                      Slight               1830            0   \n",
       "Minibus (8 - 16 passenger seats)      Fatal                  17            0   \n",
       "                                      Serious               116            0   \n",
       "                                      Slight                585            0   \n",
       "Motorcycle 125cc and under            Fatal                 101            0   \n",
       "                                      Serious               817            0   \n",
       "                                      Slight               4105            0   \n",
       "Motorcycle 50cc and under             Fatal                  52            0   \n",
       "                                      Serious               431            0   \n",
       "                                      Slight               2227            0   \n",
       "Motorcycle over 125cc and up to 500cc Fatal                  64            0   \n",
       "                                      Serious               399            0   \n",
       "                                      Slight               2211            0   \n",
       "Motorcycle over 500cc                 Fatal                 222            0   \n",
       "                                      Serious              1355            0   \n",
       "                                      Slight               7380            0   \n",
       "Other vehicle                         Fatal                  44            0   \n",
       "                                      Serious               321            0   \n",
       "                                      Slight               1629            0   \n",
       "Pedal cycle                           Fatal                   4            0   \n",
       "                                      Serious                13            0   \n",
       "                                      Slight                 53            0   \n",
       "Ridden horse                          Fatal                   0            0   \n",
       "                                      Serious                 0            0   \n",
       "                                      Slight                  1            0   \n",
       "Taxi/Private hire car                 Fatal                  99            0   \n",
       "                                      Serious               717            0   \n",
       "                                      Slight               3861            0   \n",
       "Van / Goods 3.5 tonnes mgw or under   Fatal                 306            0   \n",
       "                                      Serious              1846            1   \n",
       "                                      Slight              10004            0   \n",
       "\n",
       "Urban_or_Rural_Area                                       Urban  \n",
       "Vehicle_Type                          Accident_Severity          \n",
       "Agricultural vehicle                  Fatal                   7  \n",
       "                                      Serious               161  \n",
       "                                      Slight               1104  \n",
       "Bus or coach (17 or more pass seats)  Fatal                 112  \n",
       "                                      Serious              2001  \n",
       "                                      Slight              14738  \n",
       "Car                                   Fatal                2292  \n",
       "                                      Serious             37967  \n",
       "                                      Slight             275803  \n",
       "Data missing or out of range          Fatal                   0  \n",
       "                                      Serious                 0  \n",
       "                                      Slight                  6  \n",
       "Goods 7.5 tonnes mgw and over         Fatal                  77  \n",
       "                                      Serious              1372  \n",
       "                                      Slight               9702  \n",
       "Goods over 3.5t. and under 7.5t       Fatal                  26  \n",
       "                                      Serious               496  \n",
       "                                      Slight               3342  \n",
       "Minibus (8 - 16 passenger seats)      Fatal                  12  \n",
       "                                      Serious               160  \n",
       "                                      Slight               1086  \n",
       "Motorcycle 125cc and under            Fatal                  88  \n",
       "                                      Serious              1214  \n",
       "                                      Slight               8944  \n",
       "Motorcycle 50cc and under             Fatal                  43  \n",
       "                                      Serious               583  \n",
       "                                      Slight               4267  \n",
       "Motorcycle over 125cc and up to 500cc Fatal                  41  \n",
       "                                      Serious               615  \n",
       "                                      Slight               4326  \n",
       "Motorcycle over 500cc                 Fatal                 117  \n",
       "                                      Serious              2102  \n",
       "                                      Slight              14481  \n",
       "Other vehicle                         Fatal                  26  \n",
       "                                      Serious               446  \n",
       "                                      Slight               3171  \n",
       "Pedal cycle                           Fatal                   2  \n",
       "                                      Serious                26  \n",
       "                                      Slight                 99  \n",
       "Ridden horse                          Fatal                   0  \n",
       "                                      Serious                 0  \n",
       "                                      Slight                  3  \n",
       "Taxi/Private hire car                 Fatal                  56  \n",
       "                                      Serious              1054  \n",
       "                                      Slight               7507  \n",
       "Van / Goods 3.5 tonnes mgw or under   Fatal                 161  \n",
       "                                      Serious              2707  \n",
       "                                      Slight              19135  "
      ]
     },
     "execution_count": 82,
     "metadata": {},
     "output_type": "execute_result"
    }
   ],
   "source": [
    "df_exam1.unstack()"
   ]
  },
  {
   "cell_type": "code",
   "execution_count": 118,
   "id": "3fe063a2-4c2e-4cd3-99c8-425719f238fb",
   "metadata": {},
   "outputs": [
    {
     "data": {
      "image/png": "[encoded data removed]",
      "text/plain": [
       "<Figure size 1200x600 with 1 Axes>"
      ]
     },
     "metadata": {},
     "output_type": "display_data"
    }
   ],
   "source": [
    "df_simple = df_plot.groupby(\"Vehicle_Type\")[[\"Rural\", \"Unallocated\", \"Urban\"]].sum()\n",
    "df_simple.plot(\n",
    "    kind=\"bar\",\n",
    "    stacked=True,\n",
    "    figsize=(12, 6),\n",
    "    colormap=\"tab20\"\n",
    ")\n",
    "\n",
    "plt.title(\"Total Accidents by Vehicle Type and Area\")\n",
    "plt.xlabel(\"Vehicle Type\")\n",
    "plt.ylabel(\"Number of Accidents\")\n",
    "plt.xticks(rotation=90)\n",
    "plt.legend(title=\"Area\")\n",
    "plt.tight_layout()\n",
    "plt.show()\n"
   ]
  },
  {
   "cell_type": "markdown",
   "id": "ad81cc2e-1124-4566-8b6f-b86abf7c9df9",
   "metadata": {},
   "source": [
    "# 31. Which vehicle type accounts for the majority of all recorded accidents?\n",
    "## ***Insight:*** Cars overwhelmingly dominate accident counts, with totals far exceeding every other vehicle type. This shows that private vehicles remain the most exposed and risky category in both urban and rural settings.\n"
   ]
  },
  {
   "cell_type": "markdown",
   "id": "850f4cbb-f841-421b-a88d-42ee2b89f0c2",
   "metadata": {},
   "source": [
    "# 32. Are accidents more concentrated in urban or rural areas across most vehicle types?\n",
    "## ***Insight:*** For almost all vehicle types, accidents occur predominantly in urban areas. This highlights the higher density of vehicles and traffic interactions in cities, making them more accident-prone than rural roads."
   ]
  },
  {
   "cell_type": "code",
   "execution_count": 119,
   "id": "cb3942f0-4e86-4454-a6b6-60343d62e0c5",
   "metadata": {},
   "outputs": [
    {
     "data": {
      "image/png": "[encoded data removed]",
      "text/plain": [
       "<Figure size 800x800 with 1 Axes>"
      ]
     },
     "metadata": {},
     "output_type": "display_data"
    }
   ],
   "source": [
    "df_simple_total = df_plot.groupby(\"Vehicle_Type\")[[\"Rural\", \"Unallocated\", \"Urban\"]].sum()\n",
    "df_simple_total[\"Total\"] = df_simple_total.sum(axis=1)\n",
    "top5 = df_simple_total.sort_values(\"Total\", ascending=False).head(5)\n",
    "\n",
    "plt.figure(figsize=(8, 8))\n",
    "plt.pie(\n",
    "    top5[\"Total\"],\n",
    "    labels=top5.index,\n",
    "    autopct=\"%1.1f%%\",\n",
    "    startangle=140,\n",
    "    colors=plt.cm.tab20.colors\n",
    ")\n",
    "\n",
    "plt.title(\"Top 5 Vehicle Types in Accidents\")\n",
    "plt.tight_layout()\n",
    "plt.show()\n"
   ]
  },
  {
   "cell_type": "markdown",
   "id": "d4832e00-16df-48d5-930e-cff180bf65b9",
   "metadata": {},
   "source": [
    "# 33. Which vehicle type makes up the largest share of all accidents?\n",
    "## ***Insight:*** Cars alone account for the overwhelming majority of accidents among the top five vehicle categories. This reflects their dominance on the road and greater exposure compared to specialized vehicles like buses or motorcycles."
   ]
  },
  {
   "cell_type": "markdown",
   "id": "2751c337-d593-450d-afa9-5f6446986493",
   "metadata": {},
   "source": [
    "# 34. How significant are public and heavy vehicles compared to private cars?\n",
    "## ***Insight:*** Even when grouped among the top five, buses, vans, and goods vehicles together represent a much smaller slice than cars. This highlights that while commercial vehicles contribute to risk, the bulk of accidents still stem from private car use."
   ]
  },
  {
   "cell_type": "code",
   "execution_count": null,
   "id": "56ddfc7a-84e7-421e-85be-2331ba07b7ef",
   "metadata": {},
   "outputs": [],
   "source": []
  }
 ],
 "metadata": {
  "kernelspec": {
   "display_name": "Python 3 (ipykernel)",
   "language": "python",
   "name": "python3"
  },
  "language_info": {
   "codemirror_mode": {
    "name": "ipython",
    "version": 3
   },
   "file_extension": ".py",
   "mimetype": "text/x-python",
   "name": "python",
   "nbconvert_exporter": "python",
   "pygments_lexer": "ipython3",
   "version": "3.13.7"
  }
 },
 "nbformat": 4,
 "nbformat_minor": 5
}
